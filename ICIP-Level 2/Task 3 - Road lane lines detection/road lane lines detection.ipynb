{
 "cells": [
  {
   "cell_type": "markdown",
   "metadata": {},
   "source": [
    "# Task 3 - Lane Line Detection\n",
    "Mageshwaran Sankar"
   ]
  },
  {
   "cell_type": "code",
   "execution_count": 11,
   "metadata": {},
   "outputs": [],
   "source": [
    "import cv2\n",
    "import numpy as np\n",
    "\n",
    "video = cv2.VideoCapture(\"test videos/test3.mp4\")\n",
    "\n",
    "while True:\n",
    "    ref, frame = video.read()\n",
    "    hsv_full=cv2.cvtColor(frame,cv2.COLOR_BGR2HSV_FULL)\n",
    "    # hls_full=cv2.cvtColor(frame,cv2.COLOR_BGR2HLS_FULL)\n",
    "\n",
    "    inner_1=np.array([17,67,171])\n",
    "    outer_1=np.array([29,104,253])\n",
    "    mask_lane=cv2.inRange(hsv_full,inner_1,outer_1)\n",
    "\n",
    "    # inner_2=np.array([182,244,255])\n",
    "    # outer_2=np.array([182,230,124])\n",
    "    # mask_corners=cv2.inRange(hls_full,inner_2,outer_2)\n",
    "\n",
    "    mask=mask_lane #+mask_corners\n",
    "    edges=cv2.Canny(mask,0,150,apertureSize=7,L2gradient=True)\n",
    "\n",
    "    lines=cv2.HoughLinesP(edges,1,np.pi/180,threshold=50,maxLineGap=200,minLineLength=50)\n",
    "    \n",
    "    if lines is not None:\n",
    "        for line in lines:\n",
    "            x1,y1,x2,y2=line[0]                                 \n",
    "            cv2.line(frame,(x1,y1),(x2,y2),(255,0,255),1)\n",
    "    \n",
    "    # if not ret:\n",
    "    #     video=cv2.VideoCapture(\"test videos/test1.mp4\")\n",
    "    #     continue\n",
    "    cv2.imshow(\"Frame\",frame)\n",
    "    cv2.imshow(\"hsv\",hsv_full)\n",
    "    cv2.imshow(\"Mask\",mask)\n",
    "    cv2.imshow(\"Edges\",edges)\n",
    "\n",
    "    key=cv2.waitKey(1)\n",
    "    if key == 27:           #press esc button to break the while loop\n",
    "        break\n",
    "\n",
    "video.release()\n",
    "cv2.destroyAllWindows()"
   ]
  },
  {
   "cell_type": "code",
   "execution_count": 7,
   "metadata": {},
   "outputs": [
    {
     "name": "stdout",
     "output_type": "stream",
     "text": [
      "[[[ 99 693 523 374]]\n",
      "\n",
      " [[ 65 691 497 389]]\n",
      "\n",
      " [[ 63 696 514 380]]\n",
      "\n",
      " [[122 650 494 389]]\n",
      "\n",
      " [[146 685 526 377]]\n",
      "\n",
      " [[ 63 694 502 387]]\n",
      "\n",
      " [[145 684 525 376]]\n",
      "\n",
      " [[169 684 525 386]]\n",
      "\n",
      " [[171 684 525 387]]\n",
      "\n",
      " [[ 92 694 481 401]]\n",
      "\n",
      " [[ 94 694 436 436]]\n",
      "\n",
      " [[145 682 524 375]]\n",
      "\n",
      " [[ 96 694 513 380]]\n",
      "\n",
      " [[174 684 366 523]]\n",
      "\n",
      " [[172 681 525 385]]\n",
      "\n",
      " [[172 684 502 407]]\n",
      "\n",
      " [[145 681 515 381]]\n",
      "\n",
      " [[145 683 525 375]]\n",
      "\n",
      " [[ 91 694 495 389]]\n",
      "\n",
      " [[151 683 522 383]]\n",
      "\n",
      " [[167 684 525 384]]\n",
      "\n",
      " [[147 685 521 382]]\n",
      "\n",
      " [[156 651 505 388]]\n",
      "\n",
      " [[202 593 449 420]]\n",
      "\n",
      " [[ 63 695 522 374]]]\n"
     ]
    }
   ],
   "source": [
    "print(lines)"
   ]
  },
  {
   "cell_type": "code",
   "execution_count": null,
   "metadata": {},
   "outputs": [],
   "source": []
  }
 ],
 "metadata": {
  "kernelspec": {
   "display_name": "Python 3",
   "language": "python",
   "name": "python3"
  },
  "language_info": {
   "codemirror_mode": {
    "name": "ipython",
    "version": 3
   },
   "file_extension": ".py",
   "mimetype": "text/x-python",
   "name": "python",
   "nbconvert_exporter": "python",
   "pygments_lexer": "ipython3",
   "version": "3.12.0"
  }
 },
 "nbformat": 4,
 "nbformat_minor": 2
}
