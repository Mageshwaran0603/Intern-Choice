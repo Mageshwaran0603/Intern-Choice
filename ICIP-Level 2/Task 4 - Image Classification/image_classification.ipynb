{
 "cells": [
  {
   "cell_type": "markdown",
   "metadata": {},
   "source": [
    "# Task 4 - Image Classification\n",
    "Mageshwaran Sankar"
   ]
  },
  {
   "cell_type": "markdown",
   "metadata": {},
   "source": [
    "# Importing Necessary packages and Datasets"
   ]
  },
  {
   "cell_type": "code",
   "execution_count": 48,
   "metadata": {},
   "outputs": [],
   "source": [
    "#importing packages\n",
    "\n",
    "from tensorflow.keras import layers,models,datasets\n",
    "import matplotlib.pyplot as plt\n",
    "import numpy as np"
   ]
  },
  {
   "cell_type": "code",
   "execution_count": 49,
   "metadata": {},
   "outputs": [],
   "source": [
    "#loading dataset\n",
    "\n",
    "(x_train,y_train),(x_test,y_test)=datasets.cifar10.load_data()"
   ]
  },
  {
   "cell_type": "code",
   "execution_count": 50,
   "metadata": {},
   "outputs": [
    {
     "data": {
      "text/plain": [
       "((50000, 32, 32, 3), (50000, 1), (10000, 32, 32, 3), (10000, 1))"
      ]
     },
     "execution_count": 50,
     "metadata": {},
     "output_type": "execute_result"
    }
   ],
   "source": [
    "x_train.shape,y_train.shape,x_test.shape,y_test.shape\n"
   ]
  },
  {
   "cell_type": "code",
   "execution_count": 51,
   "metadata": {},
   "outputs": [
    {
     "data": {
      "text/plain": [
       "array([[[[ 59,  62,  63],\n",
       "         [ 43,  46,  45],\n",
       "         [ 50,  48,  43],\n",
       "         ...,\n",
       "         [158, 132, 108],\n",
       "         [152, 125, 102],\n",
       "         [148, 124, 103]],\n",
       "\n",
       "        [[ 16,  20,  20],\n",
       "         [  0,   0,   0],\n",
       "         [ 18,   8,   0],\n",
       "         ...,\n",
       "         [123,  88,  55],\n",
       "         [119,  83,  50],\n",
       "         [122,  87,  57]],\n",
       "\n",
       "        [[ 25,  24,  21],\n",
       "         [ 16,   7,   0],\n",
       "         [ 49,  27,   8],\n",
       "         ...,\n",
       "         [118,  84,  50],\n",
       "         [120,  84,  50],\n",
       "         [109,  73,  42]],\n",
       "\n",
       "        ...,\n",
       "\n",
       "        [[208, 170,  96],\n",
       "         [201, 153,  34],\n",
       "         [198, 161,  26],\n",
       "         ...,\n",
       "         [160, 133,  70],\n",
       "         [ 56,  31,   7],\n",
       "         [ 53,  34,  20]],\n",
       "\n",
       "        [[180, 139,  96],\n",
       "         [173, 123,  42],\n",
       "         [186, 144,  30],\n",
       "         ...,\n",
       "         [184, 148,  94],\n",
       "         [ 97,  62,  34],\n",
       "         [ 83,  53,  34]],\n",
       "\n",
       "        [[177, 144, 116],\n",
       "         [168, 129,  94],\n",
       "         [179, 142,  87],\n",
       "         ...,\n",
       "         [216, 184, 140],\n",
       "         [151, 118,  84],\n",
       "         [123,  92,  72]]],\n",
       "\n",
       "\n",
       "       [[[154, 177, 187],\n",
       "         [126, 137, 136],\n",
       "         [105, 104,  95],\n",
       "         ...,\n",
       "         [ 91,  95,  71],\n",
       "         [ 87,  90,  71],\n",
       "         [ 79,  81,  70]],\n",
       "\n",
       "        [[140, 160, 169],\n",
       "         [145, 153, 154],\n",
       "         [125, 125, 118],\n",
       "         ...,\n",
       "         [ 96,  99,  78],\n",
       "         [ 77,  80,  62],\n",
       "         [ 71,  73,  61]],\n",
       "\n",
       "        [[140, 155, 164],\n",
       "         [139, 146, 149],\n",
       "         [115, 115, 112],\n",
       "         ...,\n",
       "         [ 79,  82,  64],\n",
       "         [ 68,  70,  55],\n",
       "         [ 67,  69,  55]],\n",
       "\n",
       "        ...,\n",
       "\n",
       "        [[175, 167, 166],\n",
       "         [156, 154, 160],\n",
       "         [154, 160, 170],\n",
       "         ...,\n",
       "         [ 42,  34,  36],\n",
       "         [ 61,  53,  57],\n",
       "         [ 93,  83,  91]],\n",
       "\n",
       "        [[165, 154, 128],\n",
       "         [156, 152, 130],\n",
       "         [159, 161, 142],\n",
       "         ...,\n",
       "         [103,  93,  96],\n",
       "         [123, 114, 120],\n",
       "         [131, 121, 131]],\n",
       "\n",
       "        [[163, 148, 120],\n",
       "         [158, 148, 122],\n",
       "         [163, 156, 133],\n",
       "         ...,\n",
       "         [143, 133, 139],\n",
       "         [143, 134, 142],\n",
       "         [143, 133, 144]]],\n",
       "\n",
       "\n",
       "       [[[255, 255, 255],\n",
       "         [253, 253, 253],\n",
       "         [253, 253, 253],\n",
       "         ...,\n",
       "         [253, 253, 253],\n",
       "         [253, 253, 253],\n",
       "         [253, 253, 253]],\n",
       "\n",
       "        [[255, 255, 255],\n",
       "         [255, 255, 255],\n",
       "         [255, 255, 255],\n",
       "         ...,\n",
       "         [255, 255, 255],\n",
       "         [255, 255, 255],\n",
       "         [255, 255, 255]],\n",
       "\n",
       "        [[255, 255, 255],\n",
       "         [254, 254, 254],\n",
       "         [254, 254, 254],\n",
       "         ...,\n",
       "         [254, 254, 254],\n",
       "         [254, 254, 254],\n",
       "         [254, 254, 254]],\n",
       "\n",
       "        ...,\n",
       "\n",
       "        [[113, 120, 112],\n",
       "         [111, 118, 111],\n",
       "         [105, 112, 106],\n",
       "         ...,\n",
       "         [ 72,  81,  80],\n",
       "         [ 72,  80,  79],\n",
       "         [ 72,  80,  79]],\n",
       "\n",
       "        [[111, 118, 110],\n",
       "         [104, 111, 104],\n",
       "         [ 99, 106,  98],\n",
       "         ...,\n",
       "         [ 68,  75,  73],\n",
       "         [ 70,  76,  75],\n",
       "         [ 78,  84,  82]],\n",
       "\n",
       "        [[106, 113, 105],\n",
       "         [ 99, 106,  98],\n",
       "         [ 95, 102,  94],\n",
       "         ...,\n",
       "         [ 78,  85,  83],\n",
       "         [ 79,  85,  83],\n",
       "         [ 80,  86,  84]]],\n",
       "\n",
       "\n",
       "       ...,\n",
       "\n",
       "\n",
       "       [[[ 35, 178, 235],\n",
       "         [ 40, 176, 239],\n",
       "         [ 42, 176, 241],\n",
       "         ...,\n",
       "         [ 99, 177, 219],\n",
       "         [ 79, 147, 197],\n",
       "         [ 89, 148, 189]],\n",
       "\n",
       "        [[ 57, 182, 234],\n",
       "         [ 44, 184, 250],\n",
       "         [ 50, 183, 240],\n",
       "         ...,\n",
       "         [156, 182, 200],\n",
       "         [141, 177, 206],\n",
       "         [116, 149, 175]],\n",
       "\n",
       "        [[ 98, 197, 237],\n",
       "         [ 64, 189, 252],\n",
       "         [ 69, 192, 245],\n",
       "         ...,\n",
       "         [188, 195, 206],\n",
       "         [119, 135, 147],\n",
       "         [ 61,  79,  90]],\n",
       "\n",
       "        ...,\n",
       "\n",
       "        [[ 73,  79,  77],\n",
       "         [ 53,  63,  68],\n",
       "         [ 54,  68,  80],\n",
       "         ...,\n",
       "         [ 17,  40,  64],\n",
       "         [ 21,  36,  51],\n",
       "         [ 33,  48,  49]],\n",
       "\n",
       "        [[ 61,  68,  75],\n",
       "         [ 55,  70,  86],\n",
       "         [ 57,  79, 103],\n",
       "         ...,\n",
       "         [ 24,  48,  72],\n",
       "         [ 17,  35,  53],\n",
       "         [  7,  23,  32]],\n",
       "\n",
       "        [[ 44,  56,  73],\n",
       "         [ 46,  66,  88],\n",
       "         [ 49,  77, 105],\n",
       "         ...,\n",
       "         [ 27,  52,  77],\n",
       "         [ 21,  43,  66],\n",
       "         [ 12,  31,  50]]],\n",
       "\n",
       "\n",
       "       [[[189, 211, 240],\n",
       "         [186, 208, 236],\n",
       "         [185, 207, 235],\n",
       "         ...,\n",
       "         [175, 195, 224],\n",
       "         [172, 194, 222],\n",
       "         [169, 194, 220]],\n",
       "\n",
       "        [[194, 210, 239],\n",
       "         [191, 207, 236],\n",
       "         [190, 206, 235],\n",
       "         ...,\n",
       "         [173, 192, 220],\n",
       "         [171, 191, 218],\n",
       "         [167, 190, 216]],\n",
       "\n",
       "        [[208, 219, 244],\n",
       "         [205, 216, 240],\n",
       "         [204, 215, 239],\n",
       "         ...,\n",
       "         [175, 191, 217],\n",
       "         [172, 190, 216],\n",
       "         [169, 191, 215]],\n",
       "\n",
       "        ...,\n",
       "\n",
       "        [[207, 199, 181],\n",
       "         [203, 195, 175],\n",
       "         [203, 196, 173],\n",
       "         ...,\n",
       "         [135, 132, 127],\n",
       "         [162, 158, 150],\n",
       "         [168, 163, 151]],\n",
       "\n",
       "        [[198, 190, 170],\n",
       "         [189, 181, 159],\n",
       "         [180, 172, 147],\n",
       "         ...,\n",
       "         [178, 171, 160],\n",
       "         [175, 169, 156],\n",
       "         [175, 169, 154]],\n",
       "\n",
       "        [[198, 189, 173],\n",
       "         [189, 181, 162],\n",
       "         [178, 170, 149],\n",
       "         ...,\n",
       "         [195, 184, 169],\n",
       "         [196, 189, 171],\n",
       "         [195, 190, 171]]],\n",
       "\n",
       "\n",
       "       [[[229, 229, 239],\n",
       "         [236, 237, 247],\n",
       "         [234, 236, 247],\n",
       "         ...,\n",
       "         [217, 219, 233],\n",
       "         [221, 223, 234],\n",
       "         [222, 223, 233]],\n",
       "\n",
       "        [[222, 221, 229],\n",
       "         [239, 239, 249],\n",
       "         [233, 234, 246],\n",
       "         ...,\n",
       "         [223, 223, 236],\n",
       "         [227, 228, 238],\n",
       "         [210, 211, 220]],\n",
       "\n",
       "        [[213, 206, 211],\n",
       "         [234, 232, 239],\n",
       "         [231, 233, 244],\n",
       "         ...,\n",
       "         [220, 220, 232],\n",
       "         [220, 219, 232],\n",
       "         [202, 203, 215]],\n",
       "\n",
       "        ...,\n",
       "\n",
       "        [[150, 143, 135],\n",
       "         [140, 135, 127],\n",
       "         [132, 127, 120],\n",
       "         ...,\n",
       "         [224, 222, 218],\n",
       "         [230, 228, 225],\n",
       "         [241, 241, 238]],\n",
       "\n",
       "        [[137, 132, 126],\n",
       "         [130, 127, 120],\n",
       "         [125, 121, 115],\n",
       "         ...,\n",
       "         [181, 180, 178],\n",
       "         [202, 201, 198],\n",
       "         [212, 211, 207]],\n",
       "\n",
       "        [[122, 119, 114],\n",
       "         [118, 116, 110],\n",
       "         [120, 116, 111],\n",
       "         ...,\n",
       "         [179, 177, 173],\n",
       "         [164, 164, 162],\n",
       "         [163, 163, 161]]]], dtype=uint8)"
      ]
     },
     "execution_count": 51,
     "metadata": {},
     "output_type": "execute_result"
    }
   ],
   "source": [
    "x_train"
   ]
  },
  {
   "cell_type": "code",
   "execution_count": 52,
   "metadata": {},
   "outputs": [
    {
     "data": {
      "text/plain": [
       "array([[6],\n",
       "       [9],\n",
       "       [9],\n",
       "       ...,\n",
       "       [9],\n",
       "       [1],\n",
       "       [1]], dtype=uint8)"
      ]
     },
     "execution_count": 52,
     "metadata": {},
     "output_type": "execute_result"
    }
   ],
   "source": [
    "y_train"
   ]
  },
  {
   "cell_type": "markdown",
   "metadata": {},
   "source": [
    "# Normalising "
   ]
  },
  {
   "cell_type": "code",
   "execution_count": 53,
   "metadata": {},
   "outputs": [],
   "source": [
    "#scaling independent variables(images)\n",
    "\n",
    "x_train=x_train/255\n",
    "x_test=x_test/255"
   ]
  },
  {
   "cell_type": "code",
   "execution_count": 54,
   "metadata": {},
   "outputs": [
    {
     "data": {
      "text/plain": [
       "array([[[[0.23137255, 0.24313725, 0.24705882],\n",
       "         [0.16862745, 0.18039216, 0.17647059],\n",
       "         [0.19607843, 0.18823529, 0.16862745],\n",
       "         ...,\n",
       "         [0.61960784, 0.51764706, 0.42352941],\n",
       "         [0.59607843, 0.49019608, 0.4       ],\n",
       "         [0.58039216, 0.48627451, 0.40392157]],\n",
       "\n",
       "        [[0.0627451 , 0.07843137, 0.07843137],\n",
       "         [0.        , 0.        , 0.        ],\n",
       "         [0.07058824, 0.03137255, 0.        ],\n",
       "         ...,\n",
       "         [0.48235294, 0.34509804, 0.21568627],\n",
       "         [0.46666667, 0.3254902 , 0.19607843],\n",
       "         [0.47843137, 0.34117647, 0.22352941]],\n",
       "\n",
       "        [[0.09803922, 0.09411765, 0.08235294],\n",
       "         [0.0627451 , 0.02745098, 0.        ],\n",
       "         [0.19215686, 0.10588235, 0.03137255],\n",
       "         ...,\n",
       "         [0.4627451 , 0.32941176, 0.19607843],\n",
       "         [0.47058824, 0.32941176, 0.19607843],\n",
       "         [0.42745098, 0.28627451, 0.16470588]],\n",
       "\n",
       "        ...,\n",
       "\n",
       "        [[0.81568627, 0.66666667, 0.37647059],\n",
       "         [0.78823529, 0.6       , 0.13333333],\n",
       "         [0.77647059, 0.63137255, 0.10196078],\n",
       "         ...,\n",
       "         [0.62745098, 0.52156863, 0.2745098 ],\n",
       "         [0.21960784, 0.12156863, 0.02745098],\n",
       "         [0.20784314, 0.13333333, 0.07843137]],\n",
       "\n",
       "        [[0.70588235, 0.54509804, 0.37647059],\n",
       "         [0.67843137, 0.48235294, 0.16470588],\n",
       "         [0.72941176, 0.56470588, 0.11764706],\n",
       "         ...,\n",
       "         [0.72156863, 0.58039216, 0.36862745],\n",
       "         [0.38039216, 0.24313725, 0.13333333],\n",
       "         [0.3254902 , 0.20784314, 0.13333333]],\n",
       "\n",
       "        [[0.69411765, 0.56470588, 0.45490196],\n",
       "         [0.65882353, 0.50588235, 0.36862745],\n",
       "         [0.70196078, 0.55686275, 0.34117647],\n",
       "         ...,\n",
       "         [0.84705882, 0.72156863, 0.54901961],\n",
       "         [0.59215686, 0.4627451 , 0.32941176],\n",
       "         [0.48235294, 0.36078431, 0.28235294]]],\n",
       "\n",
       "\n",
       "       [[[0.60392157, 0.69411765, 0.73333333],\n",
       "         [0.49411765, 0.5372549 , 0.53333333],\n",
       "         [0.41176471, 0.40784314, 0.37254902],\n",
       "         ...,\n",
       "         [0.35686275, 0.37254902, 0.27843137],\n",
       "         [0.34117647, 0.35294118, 0.27843137],\n",
       "         [0.30980392, 0.31764706, 0.2745098 ]],\n",
       "\n",
       "        [[0.54901961, 0.62745098, 0.6627451 ],\n",
       "         [0.56862745, 0.6       , 0.60392157],\n",
       "         [0.49019608, 0.49019608, 0.4627451 ],\n",
       "         ...,\n",
       "         [0.37647059, 0.38823529, 0.30588235],\n",
       "         [0.30196078, 0.31372549, 0.24313725],\n",
       "         [0.27843137, 0.28627451, 0.23921569]],\n",
       "\n",
       "        [[0.54901961, 0.60784314, 0.64313725],\n",
       "         [0.54509804, 0.57254902, 0.58431373],\n",
       "         [0.45098039, 0.45098039, 0.43921569],\n",
       "         ...,\n",
       "         [0.30980392, 0.32156863, 0.25098039],\n",
       "         [0.26666667, 0.2745098 , 0.21568627],\n",
       "         [0.2627451 , 0.27058824, 0.21568627]],\n",
       "\n",
       "        ...,\n",
       "\n",
       "        [[0.68627451, 0.65490196, 0.65098039],\n",
       "         [0.61176471, 0.60392157, 0.62745098],\n",
       "         [0.60392157, 0.62745098, 0.66666667],\n",
       "         ...,\n",
       "         [0.16470588, 0.13333333, 0.14117647],\n",
       "         [0.23921569, 0.20784314, 0.22352941],\n",
       "         [0.36470588, 0.3254902 , 0.35686275]],\n",
       "\n",
       "        [[0.64705882, 0.60392157, 0.50196078],\n",
       "         [0.61176471, 0.59607843, 0.50980392],\n",
       "         [0.62352941, 0.63137255, 0.55686275],\n",
       "         ...,\n",
       "         [0.40392157, 0.36470588, 0.37647059],\n",
       "         [0.48235294, 0.44705882, 0.47058824],\n",
       "         [0.51372549, 0.4745098 , 0.51372549]],\n",
       "\n",
       "        [[0.63921569, 0.58039216, 0.47058824],\n",
       "         [0.61960784, 0.58039216, 0.47843137],\n",
       "         [0.63921569, 0.61176471, 0.52156863],\n",
       "         ...,\n",
       "         [0.56078431, 0.52156863, 0.54509804],\n",
       "         [0.56078431, 0.5254902 , 0.55686275],\n",
       "         [0.56078431, 0.52156863, 0.56470588]]],\n",
       "\n",
       "\n",
       "       [[[1.        , 1.        , 1.        ],\n",
       "         [0.99215686, 0.99215686, 0.99215686],\n",
       "         [0.99215686, 0.99215686, 0.99215686],\n",
       "         ...,\n",
       "         [0.99215686, 0.99215686, 0.99215686],\n",
       "         [0.99215686, 0.99215686, 0.99215686],\n",
       "         [0.99215686, 0.99215686, 0.99215686]],\n",
       "\n",
       "        [[1.        , 1.        , 1.        ],\n",
       "         [1.        , 1.        , 1.        ],\n",
       "         [1.        , 1.        , 1.        ],\n",
       "         ...,\n",
       "         [1.        , 1.        , 1.        ],\n",
       "         [1.        , 1.        , 1.        ],\n",
       "         [1.        , 1.        , 1.        ]],\n",
       "\n",
       "        [[1.        , 1.        , 1.        ],\n",
       "         [0.99607843, 0.99607843, 0.99607843],\n",
       "         [0.99607843, 0.99607843, 0.99607843],\n",
       "         ...,\n",
       "         [0.99607843, 0.99607843, 0.99607843],\n",
       "         [0.99607843, 0.99607843, 0.99607843],\n",
       "         [0.99607843, 0.99607843, 0.99607843]],\n",
       "\n",
       "        ...,\n",
       "\n",
       "        [[0.44313725, 0.47058824, 0.43921569],\n",
       "         [0.43529412, 0.4627451 , 0.43529412],\n",
       "         [0.41176471, 0.43921569, 0.41568627],\n",
       "         ...,\n",
       "         [0.28235294, 0.31764706, 0.31372549],\n",
       "         [0.28235294, 0.31372549, 0.30980392],\n",
       "         [0.28235294, 0.31372549, 0.30980392]],\n",
       "\n",
       "        [[0.43529412, 0.4627451 , 0.43137255],\n",
       "         [0.40784314, 0.43529412, 0.40784314],\n",
       "         [0.38823529, 0.41568627, 0.38431373],\n",
       "         ...,\n",
       "         [0.26666667, 0.29411765, 0.28627451],\n",
       "         [0.2745098 , 0.29803922, 0.29411765],\n",
       "         [0.30588235, 0.32941176, 0.32156863]],\n",
       "\n",
       "        [[0.41568627, 0.44313725, 0.41176471],\n",
       "         [0.38823529, 0.41568627, 0.38431373],\n",
       "         [0.37254902, 0.4       , 0.36862745],\n",
       "         ...,\n",
       "         [0.30588235, 0.33333333, 0.3254902 ],\n",
       "         [0.30980392, 0.33333333, 0.3254902 ],\n",
       "         [0.31372549, 0.3372549 , 0.32941176]]],\n",
       "\n",
       "\n",
       "       ...,\n",
       "\n",
       "\n",
       "       [[[0.1372549 , 0.69803922, 0.92156863],\n",
       "         [0.15686275, 0.69019608, 0.9372549 ],\n",
       "         [0.16470588, 0.69019608, 0.94509804],\n",
       "         ...,\n",
       "         [0.38823529, 0.69411765, 0.85882353],\n",
       "         [0.30980392, 0.57647059, 0.77254902],\n",
       "         [0.34901961, 0.58039216, 0.74117647]],\n",
       "\n",
       "        [[0.22352941, 0.71372549, 0.91764706],\n",
       "         [0.17254902, 0.72156863, 0.98039216],\n",
       "         [0.19607843, 0.71764706, 0.94117647],\n",
       "         ...,\n",
       "         [0.61176471, 0.71372549, 0.78431373],\n",
       "         [0.55294118, 0.69411765, 0.80784314],\n",
       "         [0.45490196, 0.58431373, 0.68627451]],\n",
       "\n",
       "        [[0.38431373, 0.77254902, 0.92941176],\n",
       "         [0.25098039, 0.74117647, 0.98823529],\n",
       "         [0.27058824, 0.75294118, 0.96078431],\n",
       "         ...,\n",
       "         [0.7372549 , 0.76470588, 0.80784314],\n",
       "         [0.46666667, 0.52941176, 0.57647059],\n",
       "         [0.23921569, 0.30980392, 0.35294118]],\n",
       "\n",
       "        ...,\n",
       "\n",
       "        [[0.28627451, 0.30980392, 0.30196078],\n",
       "         [0.20784314, 0.24705882, 0.26666667],\n",
       "         [0.21176471, 0.26666667, 0.31372549],\n",
       "         ...,\n",
       "         [0.06666667, 0.15686275, 0.25098039],\n",
       "         [0.08235294, 0.14117647, 0.2       ],\n",
       "         [0.12941176, 0.18823529, 0.19215686]],\n",
       "\n",
       "        [[0.23921569, 0.26666667, 0.29411765],\n",
       "         [0.21568627, 0.2745098 , 0.3372549 ],\n",
       "         [0.22352941, 0.30980392, 0.40392157],\n",
       "         ...,\n",
       "         [0.09411765, 0.18823529, 0.28235294],\n",
       "         [0.06666667, 0.1372549 , 0.20784314],\n",
       "         [0.02745098, 0.09019608, 0.1254902 ]],\n",
       "\n",
       "        [[0.17254902, 0.21960784, 0.28627451],\n",
       "         [0.18039216, 0.25882353, 0.34509804],\n",
       "         [0.19215686, 0.30196078, 0.41176471],\n",
       "         ...,\n",
       "         [0.10588235, 0.20392157, 0.30196078],\n",
       "         [0.08235294, 0.16862745, 0.25882353],\n",
       "         [0.04705882, 0.12156863, 0.19607843]]],\n",
       "\n",
       "\n",
       "       [[[0.74117647, 0.82745098, 0.94117647],\n",
       "         [0.72941176, 0.81568627, 0.9254902 ],\n",
       "         [0.7254902 , 0.81176471, 0.92156863],\n",
       "         ...,\n",
       "         [0.68627451, 0.76470588, 0.87843137],\n",
       "         [0.6745098 , 0.76078431, 0.87058824],\n",
       "         [0.6627451 , 0.76078431, 0.8627451 ]],\n",
       "\n",
       "        [[0.76078431, 0.82352941, 0.9372549 ],\n",
       "         [0.74901961, 0.81176471, 0.9254902 ],\n",
       "         [0.74509804, 0.80784314, 0.92156863],\n",
       "         ...,\n",
       "         [0.67843137, 0.75294118, 0.8627451 ],\n",
       "         [0.67058824, 0.74901961, 0.85490196],\n",
       "         [0.65490196, 0.74509804, 0.84705882]],\n",
       "\n",
       "        [[0.81568627, 0.85882353, 0.95686275],\n",
       "         [0.80392157, 0.84705882, 0.94117647],\n",
       "         [0.8       , 0.84313725, 0.9372549 ],\n",
       "         ...,\n",
       "         [0.68627451, 0.74901961, 0.85098039],\n",
       "         [0.6745098 , 0.74509804, 0.84705882],\n",
       "         [0.6627451 , 0.74901961, 0.84313725]],\n",
       "\n",
       "        ...,\n",
       "\n",
       "        [[0.81176471, 0.78039216, 0.70980392],\n",
       "         [0.79607843, 0.76470588, 0.68627451],\n",
       "         [0.79607843, 0.76862745, 0.67843137],\n",
       "         ...,\n",
       "         [0.52941176, 0.51764706, 0.49803922],\n",
       "         [0.63529412, 0.61960784, 0.58823529],\n",
       "         [0.65882353, 0.63921569, 0.59215686]],\n",
       "\n",
       "        [[0.77647059, 0.74509804, 0.66666667],\n",
       "         [0.74117647, 0.70980392, 0.62352941],\n",
       "         [0.70588235, 0.6745098 , 0.57647059],\n",
       "         ...,\n",
       "         [0.69803922, 0.67058824, 0.62745098],\n",
       "         [0.68627451, 0.6627451 , 0.61176471],\n",
       "         [0.68627451, 0.6627451 , 0.60392157]],\n",
       "\n",
       "        [[0.77647059, 0.74117647, 0.67843137],\n",
       "         [0.74117647, 0.70980392, 0.63529412],\n",
       "         [0.69803922, 0.66666667, 0.58431373],\n",
       "         ...,\n",
       "         [0.76470588, 0.72156863, 0.6627451 ],\n",
       "         [0.76862745, 0.74117647, 0.67058824],\n",
       "         [0.76470588, 0.74509804, 0.67058824]]],\n",
       "\n",
       "\n",
       "       [[[0.89803922, 0.89803922, 0.9372549 ],\n",
       "         [0.9254902 , 0.92941176, 0.96862745],\n",
       "         [0.91764706, 0.9254902 , 0.96862745],\n",
       "         ...,\n",
       "         [0.85098039, 0.85882353, 0.91372549],\n",
       "         [0.86666667, 0.8745098 , 0.91764706],\n",
       "         [0.87058824, 0.8745098 , 0.91372549]],\n",
       "\n",
       "        [[0.87058824, 0.86666667, 0.89803922],\n",
       "         [0.9372549 , 0.9372549 , 0.97647059],\n",
       "         [0.91372549, 0.91764706, 0.96470588],\n",
       "         ...,\n",
       "         [0.8745098 , 0.8745098 , 0.9254902 ],\n",
       "         [0.89019608, 0.89411765, 0.93333333],\n",
       "         [0.82352941, 0.82745098, 0.8627451 ]],\n",
       "\n",
       "        [[0.83529412, 0.80784314, 0.82745098],\n",
       "         [0.91764706, 0.90980392, 0.9372549 ],\n",
       "         [0.90588235, 0.91372549, 0.95686275],\n",
       "         ...,\n",
       "         [0.8627451 , 0.8627451 , 0.90980392],\n",
       "         [0.8627451 , 0.85882353, 0.90980392],\n",
       "         [0.79215686, 0.79607843, 0.84313725]],\n",
       "\n",
       "        ...,\n",
       "\n",
       "        [[0.58823529, 0.56078431, 0.52941176],\n",
       "         [0.54901961, 0.52941176, 0.49803922],\n",
       "         [0.51764706, 0.49803922, 0.47058824],\n",
       "         ...,\n",
       "         [0.87843137, 0.87058824, 0.85490196],\n",
       "         [0.90196078, 0.89411765, 0.88235294],\n",
       "         [0.94509804, 0.94509804, 0.93333333]],\n",
       "\n",
       "        [[0.5372549 , 0.51764706, 0.49411765],\n",
       "         [0.50980392, 0.49803922, 0.47058824],\n",
       "         [0.49019608, 0.4745098 , 0.45098039],\n",
       "         ...,\n",
       "         [0.70980392, 0.70588235, 0.69803922],\n",
       "         [0.79215686, 0.78823529, 0.77647059],\n",
       "         [0.83137255, 0.82745098, 0.81176471]],\n",
       "\n",
       "        [[0.47843137, 0.46666667, 0.44705882],\n",
       "         [0.4627451 , 0.45490196, 0.43137255],\n",
       "         [0.47058824, 0.45490196, 0.43529412],\n",
       "         ...,\n",
       "         [0.70196078, 0.69411765, 0.67843137],\n",
       "         [0.64313725, 0.64313725, 0.63529412],\n",
       "         [0.63921569, 0.63921569, 0.63137255]]]])"
      ]
     },
     "execution_count": 54,
     "metadata": {},
     "output_type": "execute_result"
    }
   ],
   "source": [
    "x_train"
   ]
  },
  {
   "cell_type": "code",
   "execution_count": 55,
   "metadata": {},
   "outputs": [
    {
     "data": {
      "text/plain": [
       "(50000, 1)"
      ]
     },
     "execution_count": 55,
     "metadata": {},
     "output_type": "execute_result"
    }
   ],
   "source": [
    "y_train.shape"
   ]
  },
  {
   "cell_type": "code",
   "execution_count": 56,
   "metadata": {},
   "outputs": [],
   "source": [
    "#reshaping target feature into single array\n",
    "\n",
    "y_train=y_train.reshape(-1,)\n",
    "y_test=y_test.reshape(-1,)"
   ]
  },
  {
   "cell_type": "code",
   "execution_count": 57,
   "metadata": {},
   "outputs": [
    {
     "data": {
      "text/plain": [
       "(50000,)"
      ]
     },
     "execution_count": 57,
     "metadata": {},
     "output_type": "execute_result"
    }
   ],
   "source": [
    "y_train.shape"
   ]
  },
  {
   "cell_type": "code",
   "execution_count": 58,
   "metadata": {},
   "outputs": [
    {
     "data": {
      "text/plain": [
       "array([6, 9, 9, ..., 9, 1, 1], dtype=uint8)"
      ]
     },
     "execution_count": 58,
     "metadata": {},
     "output_type": "execute_result"
    }
   ],
   "source": [
    "y_train"
   ]
  },
  {
   "cell_type": "markdown",
   "metadata": {},
   "source": [
    "# Exploring the dataset"
   ]
  },
  {
   "cell_type": "code",
   "execution_count": 59,
   "metadata": {},
   "outputs": [
    {
     "data": {
      "image/png": "[encoded data removed]",
      "text/plain": [
       "<Figure size 1500x300 with 5 Axes>"
      ]
     },
     "metadata": {},
     "output_type": "display_data"
    }
   ],
   "source": [
    "fig,ax=plt.subplots(nrows=1,ncols=5,figsize=(15,3))\n",
    "for index in range(5):\n",
    "    plt.subplot(1,5,index+1)\n",
    "    i=random.randint(0,len(x_train))\n",
    "    plt.imshow(x_train[i])\n",
    "    plt.xlabel(y_train[i])\n",
    "    plt.tight_layout()"
   ]
  },
  {
   "cell_type": "code",
   "execution_count": 60,
   "metadata": {},
   "outputs": [
    {
     "data": {
      "text/plain": [
       "array([6, 9, 9, ..., 9, 1, 1], dtype=uint8)"
      ]
     },
     "execution_count": 60,
     "metadata": {},
     "output_type": "execute_result"
    }
   ],
   "source": [
    "y_train"
   ]
  },
  {
   "cell_type": "code",
   "execution_count": null,
   "metadata": {},
   "outputs": [],
   "source": [
    "class_names=[\"airplane\",\"automobile\",\"bird\",\"cat\",\"deer\",\"dog\",\"frog\",\"horse\",\"ship\",\"truck\"]"
   ]
  },
  {
   "cell_type": "code",
   "execution_count": 61,
   "metadata": {},
   "outputs": [
    {
     "data": {
      "image/png": "[encoded data removed]",
      "text/plain": [
       "<Figure size 1500x300 with 5 Axes>"
      ]
     },
     "metadata": {},
     "output_type": "display_data"
    }
   ],
   "source": [
    "fig,ax=plt.subplots(nrows=1,ncols=5,figsize=(15,3))\n",
    "for index in range(5):\n",
    "    plt.subplot(1,5,index+1)\n",
    "    i=random.randint(0,len(x_train))\n",
    "    plt.imshow(x_train[i])\n",
    "    plt.xlabel(class_names[y_train[i]])\n",
    "    plt.tight_layout()"
   ]
  },
  {
   "cell_type": "markdown",
   "metadata": {},
   "source": [
    "# CNN Model Building"
   ]
  },
  {
   "cell_type": "code",
   "execution_count": 62,
   "metadata": {},
   "outputs": [
    {
     "data": {
      "text/plain": [
       "(32, 32, 3)"
      ]
     },
     "execution_count": 62,
     "metadata": {},
     "output_type": "execute_result"
    }
   ],
   "source": [
    "x_train[0].shape"
   ]
  },
  {
   "cell_type": "code",
   "execution_count": 63,
   "metadata": {},
   "outputs": [
    {
     "name": "stderr",
     "output_type": "stream",
     "text": [
      "c:\\Users\\DELL\\AppData\\Local\\Programs\\Python\\Python312\\Lib\\site-packages\\keras\\src\\layers\\convolutional\\base_conv.py:107: UserWarning: Do not pass an `input_shape`/`input_dim` argument to a layer. When using Sequential models, prefer using an `Input(shape)` object as the first layer in the model instead.\n",
      "  super().__init__(activity_regularizer=activity_regularizer, **kwargs)\n"
     ]
    }
   ],
   "source": [
    "model=models.Sequential()\n",
    "\n",
    "model.add(layers.Conv2D(input_shape=(x_train[0].shape), filters=32,kernel_size=(3,3),activation='relu'))\n",
    "\n",
    "model.add(layers.MaxPooling2D((2,2)))\n",
    "\n",
    "model.add(layers.Flatten())\n",
    "\n",
    "model.add(layers.Dense(64,activation='relu'))\n",
    "\n",
    "model.add(layers.Dense(10,activation='softmax'))"
   ]
  },
  {
   "cell_type": "code",
   "execution_count": 64,
   "metadata": {},
   "outputs": [],
   "source": [
    "model.compile(optimizer='adam',loss='sparse_categorical_crossentropy',metrics=['accuracy'])"
   ]
  },
  {
   "cell_type": "markdown",
   "metadata": {},
   "source": [
    "# Model Training"
   ]
  },
  {
   "cell_type": "code",
   "execution_count": 65,
   "metadata": {},
   "outputs": [
    {
     "name": "stdout",
     "output_type": "stream",
     "text": [
      "Epoch 1/10\n",
      "\u001b[1m1563/1563\u001b[0m \u001b[32m━━━━━━━━━━━━━━━━━━━━\u001b[0m\u001b[37m\u001b[0m \u001b[1m31s\u001b[0m 18ms/step - accuracy: 0.3921 - loss: 1.6714 - val_accuracy: 0.5544 - val_loss: 1.2770\n",
      "Epoch 2/10\n",
      "\u001b[1m1563/1563\u001b[0m \u001b[32m━━━━━━━━━━━━━━━━━━━━\u001b[0m\u001b[37m\u001b[0m \u001b[1m26s\u001b[0m 16ms/step - accuracy: 0.5715 - loss: 1.2069 - val_accuracy: 0.5695 - val_loss: 1.2085\n",
      "Epoch 3/10\n",
      "\u001b[1m1563/1563\u001b[0m \u001b[32m━━━━━━━━━━━━━━━━━━━━\u001b[0m\u001b[37m\u001b[0m \u001b[1m25s\u001b[0m 16ms/step - accuracy: 0.6206 - loss: 1.0841 - val_accuracy: 0.6280 - val_loss: 1.0762\n",
      "Epoch 4/10\n",
      "\u001b[1m1563/1563\u001b[0m \u001b[32m━━━━━━━━━━━━━━━━━━━━\u001b[0m\u001b[37m\u001b[0m \u001b[1m25s\u001b[0m 16ms/step - accuracy: 0.6553 - loss: 0.9923 - val_accuracy: 0.6297 - val_loss: 1.0663\n",
      "Epoch 5/10\n",
      "\u001b[1m1563/1563\u001b[0m \u001b[32m━━━━━━━━━━━━━━━━━━━━\u001b[0m\u001b[37m\u001b[0m \u001b[1m25s\u001b[0m 16ms/step - accuracy: 0.6806 - loss: 0.9186 - val_accuracy: 0.6271 - val_loss: 1.0853\n",
      "Epoch 6/10\n",
      "\u001b[1m1563/1563\u001b[0m \u001b[32m━━━━━━━━━━━━━━━━━━━━\u001b[0m\u001b[37m\u001b[0m \u001b[1m25s\u001b[0m 16ms/step - accuracy: 0.6979 - loss: 0.8600 - val_accuracy: 0.6463 - val_loss: 1.0373\n",
      "Epoch 7/10\n",
      "\u001b[1m1563/1563\u001b[0m \u001b[32m━━━━━━━━━━━━━━━━━━━━\u001b[0m\u001b[37m\u001b[0m \u001b[1m25s\u001b[0m 16ms/step - accuracy: 0.7116 - loss: 0.8289 - val_accuracy: 0.6396 - val_loss: 1.0506\n",
      "Epoch 8/10\n",
      "\u001b[1m1563/1563\u001b[0m \u001b[32m━━━━━━━━━━━━━━━━━━━━\u001b[0m\u001b[37m\u001b[0m \u001b[1m25s\u001b[0m 16ms/step - accuracy: 0.7268 - loss: 0.7762 - val_accuracy: 0.6503 - val_loss: 1.0289\n",
      "Epoch 9/10\n",
      "\u001b[1m1563/1563\u001b[0m \u001b[32m━━━━━━━━━━━━━━━━━━━━\u001b[0m\u001b[37m\u001b[0m \u001b[1m25s\u001b[0m 16ms/step - accuracy: 0.7431 - loss: 0.7381 - val_accuracy: 0.6542 - val_loss: 1.0318\n",
      "Epoch 10/10\n",
      "\u001b[1m1563/1563\u001b[0m \u001b[32m━━━━━━━━━━━━━━━━━━━━\u001b[0m\u001b[37m\u001b[0m \u001b[1m25s\u001b[0m 16ms/step - accuracy: 0.7549 - loss: 0.6994 - val_accuracy: 0.6452 - val_loss: 1.0607\n"
     ]
    },
    {
     "data": {
      "text/plain": [
       "<keras.src.callbacks.history.History at 0x215e059f620>"
      ]
     },
     "execution_count": 65,
     "metadata": {},
     "output_type": "execute_result"
    }
   ],
   "source": [
    "model.fit(x_train,y_train,validation_data=(x_test,y_test),epochs=10)\n"
   ]
  },
  {
   "cell_type": "code",
   "execution_count": 66,
   "metadata": {},
   "outputs": [
    {
     "name": "stdout",
     "output_type": "stream",
     "text": [
      "\u001b[1m313/313\u001b[0m \u001b[32m━━━━━━━━━━━━━━━━━━━━\u001b[0m\u001b[37m\u001b[0m \u001b[1m2s\u001b[0m 5ms/step - accuracy: 0.6521 - loss: 1.0429\n"
     ]
    },
    {
     "data": {
      "text/plain": [
       "[1.0607467889785767, 0.6452000141143799]"
      ]
     },
     "execution_count": 66,
     "metadata": {},
     "output_type": "execute_result"
    }
   ],
   "source": [
    "model.evaluate(x_test,y_test)"
   ]
  },
  {
   "cell_type": "markdown",
   "metadata": {},
   "source": [
    "# Predictions"
   ]
  },
  {
   "cell_type": "code",
   "execution_count": 67,
   "metadata": {},
   "outputs": [
    {
     "name": "stdout",
     "output_type": "stream",
     "text": [
      "\u001b[1m313/313\u001b[0m \u001b[32m━━━━━━━━━━━━━━━━━━━━\u001b[0m\u001b[37m\u001b[0m \u001b[1m2s\u001b[0m 5ms/step\n"
     ]
    }
   ],
   "source": [
    "y_pred=model.predict(x_test)"
   ]
  },
  {
   "cell_type": "code",
   "execution_count": 71,
   "metadata": {},
   "outputs": [
    {
     "data": {
      "text/plain": [
       "array([2.5531781e-04, 1.9903504e-03, 6.1373512e-04, 8.7165362e-01,\n",
       "       1.1059665e-04, 1.0395690e-01, 1.2388494e-02, 2.2257710e-04,\n",
       "       6.2692831e-03, 2.5391812e-03], dtype=float32)"
      ]
     },
     "execution_count": 71,
     "metadata": {},
     "output_type": "execute_result"
    }
   ],
   "source": [
    "y_pred[0]"
   ]
  },
  {
   "cell_type": "code",
   "execution_count": 75,
   "metadata": {},
   "outputs": [
    {
     "data": {
      "text/plain": [
       "(10000, 10)"
      ]
     },
     "execution_count": 75,
     "metadata": {},
     "output_type": "execute_result"
    }
   ],
   "source": [
    "y_pred.shape"
   ]
  },
  {
   "cell_type": "code",
   "execution_count": 76,
   "metadata": {},
   "outputs": [],
   "source": [
    "y_pred_proper=[np.argmax(list) for list in y_pred]"
   ]
  },
  {
   "cell_type": "code",
   "execution_count": 77,
   "metadata": {},
   "outputs": [
    {
     "name": "stdout",
     "output_type": "stream",
     "text": [
      "[3, 8, 8, 8, 6, 6, 1, 6, 3, 1, 0, 9, 5, 7, 9, 8, 5, 5, 8, 6, 7, 0, 2, 9, 4, 6, 4, 0, 9, 6, 3, 5, 2, 3, 9, 9, 4, 9, 9, 5, 0, 6, 3, 6, 9, 9, 3, 9, 7, 2, 9, 8, 2, 3, 8, 8, 7, 8, 5, 5, 7, 3, 6, 0, 6, 2, 1, 8, 3, 1, 4, 6, 8, 8, 9, 2, 0, 3, 5, 8, 8, 9, 1, 3, 2, 7, 4, 0, 9, 9, 8, 6, 8, 6, 4, 6, 6, 8, 2, 7, 4, 5, 6, 3, 1, 1, 8, 6, 8, 7, 7, 0, 6, 2, 9, 3, 0, 4, 6, 5, 8, 4, 1, 7, 9, 0, 8, 3, 6, 6, 4, 9, 9, 9, 1, 2, 9, 7, 4, 8, 4, 5, 3, 5, 8, 4, 6, 6, 5, 3, 8, 9, 6, 0, 0, 5, 2, 9, 3, 4, 0, 1, 1, 6, 0, 7, 8, 6, 5, 0, 9, 0, 9, 8, 9, 9, 3, 7, 5, 9, 0, 7, 6, 2, 5, 8, 6, 3, 6, 8, 2, 3, 0, 1, 7, 6, 8, 8, 3, 8, 3, 9, 8, 7, 1, 3, 8, 5, 7, 9, 5, 9, 5, 9, 8, 3, 4, 9, 0, 7, 7, 3, 9, 5, 4, 9, 3, 2, 4, 3, 3, 1, 3, 1, 8, 0, 4, 4, 3, 2, 1, 9, 8, 9, 0, 2, 9, 8, 2, 0, 7, 5, 9, 9, 2, 0, 3, 0, 8, 9, 8, 1, 0, 3, 0, 8, 4, 4, 7, 0, 2, 3, 6, 3, 8, 2, 0, 4, 4, 7, 9, 0, 3, 1, 9, 9, 1, 8, 7, 9, 1, 2, 6, 9, 3, 2, 6, 0, 0, 6, 6, 6, 5, 5, 6, 8, 9, 2, 1, 2, 8, 6, 8, 0, 4, 0, 7, 7, 5, 5, 3, 3, 6, 2, 5, 1, 7, 5, 2, 6, 1, 9, 6, 6, 6, 9, 3, 8, 0, 7, 6, 6, 2, 7, 8, 5, 7, 6, 8, 9, 9, 1, 8, 0, 2, 7, 5, 2, 1, 0, 9, 5, 8, 1, 9, 7, 9, 8, 0, 8, 2, 7, 9, 4, 2, 7, 2, 7, 8, 6, 6, 9, 0, 9, 5, 0, 7, 4, 2, 5, 1, 0, 6, 5, 7, 6, 2, 5, 0, 8, 9, 8, 7, 8, 8, 4, 0, 1, 8, 2, 5, 8, 7, 6, 1, 9, 4, 7, 3, 7, 4, 7, 0, 7, 2, 9, 6, 4, 6, 6, 4, 5, 3, 3, 9, 7, 9, 2, 3, 1, 1, 4, 9, 8, 5, 7, 8, 0, 2, 2, 6, 9, 7, 3, 9, 4, 4, 4, 4, 8, 3, 6, 1, 4, 4, 4, 5, 3, 7, 8, 3, 3, 8, 9, 3, 7, 6, 9, 2, 3, 8, 6, 8, 5, 5, 9, 9, 9, 5, 0, 0, 0, 0, 1, 8, 8, 0, 5, 0, 0, 4, 6, 5, 4, 9, 4, 7, 9, 3, 4, 5, 6, 6, 1, 5, 5, 8, 9, 3, 8, 5, 7, 0, 7, 0, 4, 4, 0, 8, 6, 9, 8, 1, 8, 6, 6, 6, 2, 0, 9, 1, 9, 6, 7, 5, 9, 1, 7, 2, 3, 3, 5, 9, 3, 9, 8, 4, 4, 3, 2, 0, 7, 6, 2, 2, 3, 9, 4, 9, 4, 6, 7, 1, 8, 6, 6, 8, 8, 7, 3, 4, 0, 8, 7, 0, 9, 3, 4, 8, 9, 6, 1, 2, 6, 1, 4, 7, 3, 4, 3, 9, 5, 1, 2, 1, 6, 9, 3, 3, 9, 6, 9, 8, 8, 5, 8, 6, 3, 7, 1, 7, 1, 1, 2, 7, 9, 9, 4, 7, 9, 8, 5, 6, 3, 7, 6, 8, 3, 9, 5, 3, 6, 2, 7, 9, 1, 3, 3, 4, 5, 4, 9, 3, 6, 9, 0, 1, 1, 4, 1, 9, 7, 7, 6, 3, 0, 9, 0, 9, 5, 6, 3, 3, 3, 0, 9, 4, 9, 3, 3, 1, 6, 0, 8, 9, 4, 9, 6, 6, 9, 2, 0, 0, 7, 8, 3, 8, 2, 7, 5, 7, 8, 6, 8, 7, 4, 8, 5, 8, 8, 6, 0, 8, 7, 4, 3, 3, 8, 4, 8, 7, 8, 8, 1, 8, 0, 1, 4, 6, 5, 4, 2, 7, 9, 1, 2, 1, 2, 1, 7, 5, 7, 9, 7, 6, 7, 6, 6, 2, 5, 9, 0, 9, 1, 2, 4, 6, 8, 2, 1, 7, 2, 6, 0, 1, 2, 2, 8, 5, 2, 8, 9, 6, 3, 0, 2, 5, 6, 0, 6, 9, 1, 7, 6, 7, 0, 6, 9, 4, 8, 0, 0, 5, 9, 7, 7, 0, 7, 7, 2, 7, 1, 2, 7, 4, 4, 8, 2, 7, 8, 5, 3, 7, 2, 0, 8, 9, 3, 8, 6, 6, 2, 0, 8, 7, 5, 3, 6, 2, 5, 1, 9, 2, 5, 2, 4, 9, 2, 9, 2, 7, 8, 7, 2, 1, 3, 6, 0, 6, 4, 5, 9, 8, 9, 0, 0, 7, 0, 7, 8, 4, 4, 6, 3, 0, 1, 6, 3, 0, 9, 3, 1, 6, 2, 3, 8, 2, 5, 2, 3, 8, 4, 6, 0, 9, 0, 9, 1, 8, 4, 3, 6, 7, 3, 1, 9, 3, 7, 3, 7, 5, 6, 6, 3, 8, 5, 8, 6, 8, 8, 7, 3, 3, 4, 0, 1, 3, 8, 8, 0, 6, 9, 0, 9, 5, 3, 6, 6, 0, 8, 4, 2, 3, 3, 7, 3, 2, 7, 9, 8, 9, 5, 7, 6, 0, 3, 0, 1, 4, 8, 4, 9, 6, 8, 4, 7, 0, 6, 7, 8, 9, 9, 9, 6, 6, 6, 6, 9, 1, 9, 9, 4, 7, 1, 2, 0, 6, 8, 1, 9, 6, 9, 5, 4, 7, 8, 3, 1, 2, 0, 1, 5, 8, 3, 6, 2, 8, 1, 3, 8, 5, 0, 8, 7, 8, 1, 1, 8, 9, 6, 0, 8, 6, 1, 4, 6, 9, 6, 0, 5, 1, 0, 0, 2, 3, 5, 0, 0, 6, 6, 3, 4, 6, 3, 3, 4, 2, 0, 2, 6, 5, 5, 4, 2, 8, 5, 2, 8, 1, 7, 0, 7, 8, 5, 1, 5, 3, 4, 3, 8, 9, 1, 6, 3, 9, 0, 1, 0, 9, 6, 3, 6, 8, 7, 3, 8, 0, 0, 0, 6, 6, 6, 9, 2, 5, 4, 4, 6, 5, 6, 0, 8, 6, 2, 6, 2, 7, 5, 1, 2, 7, 8, 8, 0, 9, 3, 9, 7, 2, 0, 0, 8, 3, 0, 9, 1, 5, 5, 7, 7, 5, 2, 8, 3, 2, 6, 0, 8, 4, 0, 4, 9, 5, 4, 8, 3, 9, 3, 9, 8, 6, 1, 8, 6, 8, 4, 4, 0, 2, 7, 4, 2, 8, 8, 6, 3, 8, 7, 9, 8, 0, 0, 7, 3, 8, 0, 3, 3, 3, 4, 7, 9, 7, 6, 0, 9, 1, 9, 3, 5, 3, 3, 1, 0, 6, 1, 2, 1, 0, 0, 1, 1, 6, 3, 4, 6, 4, 0, 7, 0, 8, 7, 8, 8, 6, 8, 1, 0, 8, 7, 0, 6, 1, 8, 5, 7, 1, 2, 8, 3, 3, 8, 9, 0, 7, 6, 6, 7, 0, 1, 5, 9, 1, 8, 1, 5, 5, 0, 1, 3, 6, 9, 1, 8, 3, 6, 7, 2, 3, 4, 7, 5, 5, 8, 0, 4, 8, 2, 7, 8, 9, 8, 8, 0, 8, 8, 8, 4, 7, 3, 1, 8, 7, 6, 3, 3, 1, 3, 2, 8, 3, 8, 9, 3, 8, 0, 0, 9, 1, 6, 2, 1, 3, 7, 8, 0, 5, 0, 9, 7, 3, 1, 6, 3, 8, 9, 1, 2, 4, 6, 0, 8, 6, 1, 9, 3, 5, 9, 3, 0, 7, 5, 9, 8, 4, 4, 6, 6, 3, 7, 3, 8, 9, 2, 2, 8, 4, 5, 6, 5, 1, 4, 3, 9, 9, 2, 9, 8, 3, 8, 4, 7, 2, 2, 1, 3, 2, 9, 8, 9, 7, 9, 8, 1, 4, 0, 8, 2, 3, 8, 9, 1, 9, 5, 2, 4, 9, 3, 1, 7, 3, 6, 0, 8, 9, 5, 3, 9, 3, 5, 6, 2, 2, 3, 5, 3, 1, 0, 0, 2, 3, 4, 7, 2, 1, 1, 9, 8, 1, 0, 1, 5, 9, 1, 1, 7, 3, 9, 3, 8, 2, 6, 8, 4, 9, 4, 7, 1, 7, 6, 8, 4, 9, 7, 0, 1, 6, 1, 8, 1, 0, 4, 3, 4, 1, 3, 0, 8, 4, 6, 2, 6, 6, 2, 5, 6, 6, 8, 9, 8, 6, 0, 4, 0, 1, 9, 7, 1, 3, 5, 2, 8, 9, 7, 9, 9, 7, 7, 7, 9, 8, 2, 1, 6, 2, 5, 7, 9, 8, 6, 8, 4, 8, 1, 5, 0, 6, 8, 3, 9, 9, 3, 2, 5, 1, 2, 7, 8, 8, 1, 8, 1, 8, 6, 0, 2, 4, 1, 3, 6, 3, 7, 4, 4, 6, 3, 4, 7, 2, 4, 3, 7, 8, 7, 4, 4, 7, 4, 8, 2, 8, 4, 5, 5, 4, 8, 4, 0, 4, 1, 6, 4, 3, 4, 4, 8, 8, 8, 6, 5, 7, 5, 6, 9, 1, 6, 7, 2, 0, 1, 7, 5, 3, 8, 7, 2, 4, 5, 6, 0, 7, 2, 9, 4, 7, 5, 5, 0, 6, 6, 4, 9, 4, 4, 3, 9, 2, 3, 5, 5, 9, 9, 7, 3, 1, 4, 6, 9, 4, 6, 2, 3, 6, 8, 1, 7, 7, 0, 7, 4, 8, 9, 0, 2, 4, 3, 9, 9, 7, 0, 9, 9, 0, 1, 6, 7, 5, 3, 4, 9, 5, 6, 4, 9, 6, 4, 0, 7, 8, 2, 5, 2, 0, 9, 9, 8, 4, 5, 4, 8, 3, 6, 3, 6, 0, 6, 6, 6, 9, 4, 6, 8, 6, 0, 2, 5, 8, 1, 2, 7, 6, 5, 7, 8, 8, 6, 8, 0, 4, 9, 4, 8, 9, 8, 0, 9, 8, 9, 3, 7, 5, 5, 9, 5, 0, 0, 1, 9, 5, 4, 4, 1, 0, 9, 0, 4, 1, 7, 8, 0, 5, 9, 6, 5, 4, 0, 0, 1, 4, 8, 8, 3, 1, 3, 8, 0, 6, 7, 3, 0, 1, 2, 8, 1, 0, 5, 4, 9, 0, 2, 8, 1, 2, 6, 7, 7, 9, 6, 2, 3, 0, 1, 4, 2, 2, 3, 4, 2, 0, 9, 7, 4, 9, 5, 5, 3, 0, 4, 8, 3, 9, 6, 5, 8, 1, 2, 9, 3, 3, 0, 7, 7, 9, 2, 4, 6, 0, 1, 6, 0, 4, 4, 2, 3, 3, 8, 9, 3, 9, 8, 1, 1, 7, 4, 9, 9, 3, 6, 5, 0, 8, 4, 3, 3, 9, 2, 8, 4, 5, 9, 5, 9, 6, 8, 9, 3, 4, 6, 1, 7, 8, 9, 7, 8, 9, 9, 2, 3, 3, 7, 3, 0, 2, 9, 5, 5, 8, 5, 6, 5, 1, 6, 4, 8, 7, 7, 8, 6, 7, 8, 2, 5, 8, 6, 8, 0, 2, 3, 7, 0, 1, 9, 1, 4, 2, 5, 8, 3, 9, 9, 6, 8, 6, 9, 6, 8, 9, 8, 9, 7, 8, 5, 2, 0, 1, 2, 3, 1, 3, 3, 4, 6, 0, 9, 9, 9, 9, 8, 7, 4, 2, 8, 5, 1, 6, 1, 0, 1, 4, 4, 1, 6, 0, 5, 2, 2, 3, 9, 0, 1, 2, 7, 2, 8, 4, 5, 8, 1, 5, 0, 4, 7, 4, 4, 0, 7, 7, 7, 4, 0, 5, 7, 6, 0, 3, 8, 7, 7, 8, 9, 1, 3, 6, 0, 6, 6, 5, 5, 6, 6, 9, 3, 6, 5, 7, 6, 6, 9, 3, 4, 7, 1, 6, 3, 9, 2, 5, 9, 8, 3, 1, 4, 2, 6, 7, 5, 7, 8, 6, 1, 3, 4, 5, 6, 8, 4, 6, 6, 3, 9, 9, 0, 3, 3, 6, 4, 5, 9, 7, 6, 4, 1, 4, 2, 4, 6, 3, 3, 5, 1, 0, 0, 1, 8, 3, 1, 5, 3, 0, 4, 8, 5, 8, 6, 3, 5, 5, 8, 8, 8, 3, 4, 7, 1, 8, 4, 2, 4, 3, 4, 2, 9, 0, 6, 2, 7, 3, 0, 6, 2, 9, 6, 2, 5, 7, 0, 3, 4, 4, 7, 4, 9, 1, 6, 5, 4, 9, 2, 0, 1, 6, 6, 0, 1, 6, 6, 3, 3, 7, 0, 0, 9, 1, 0, 4, 5, 9, 7, 8, 6, 3, 6, 0, 2, 0, 1, 9, 3, 6, 0, 2, 7, 2, 3, 4, 8, 9, 4, 6, 8, 9, 7, 9, 9, 2, 4, 2, 7, 9, 6, 9, 3, 7, 8, 7, 9, 8, 6, 9, 9, 8, 5, 8, 7, 1, 0, 0, 7, 5, 8, 2, 5, 4, 0, 9, 5, 1, 9, 9, 1, 4, 3, 4, 4, 9, 0, 1, 3, 9, 2, 9, 6, 0, 0, 8, 4, 8, 6, 8, 6, 0, 5, 9, 6, 9, 9, 8, 3, 4, 4, 2, 7, 2, 6, 4, 0, 7, 8, 4, 2, 1, 2, 4, 8, 1, 7, 6, 8, 7, 4, 3, 5, 3, 2, 7, 2, 9, 6, 9, 7, 9, 0, 6, 3, 9, 8, 1, 5, 8, 0, 6, 5, 3, 5, 8, 8, 4, 0, 1, 5, 4, 6, 4, 6, 8, 8, 8, 3, 3, 4, 4, 9, 7, 3, 1, 6, 0, 5, 9, 9, 8, 5, 9, 3, 8, 5, 3, 2, 3, 1, 9, 5, 3, 1, 1, 8, 9, 7, 0, 3, 4, 2, 0, 2, 6, 0, 3, 9, 1, 3, 6, 7, 2, 2, 5, 2, 2, 5, 2, 7, 2, 7, 0, 1, 8, 5, 7, 0, 7, 6, 8, 7, 2, 6, 1, 5, 9, 7, 6, 2, 7, 0, 6, 3, 0, 1, 1, 8, 4, 5, 6, 9, 2, 4, 8, 1, 8, 1, 3, 3, 7, 2, 2, 6, 6, 7, 9, 4, 0, 1, 0, 8, 5, 0, 8, 0, 7, 6, 1, 8, 8, 5, 9, 2, 3, 5, 4, 8, 0, 6, 2, 5, 2, 1, 6, 7, 9, 5, 8, 8, 0, 8, 9, 6, 9, 6, 4, 9, 2, 4, 3, 0, 6, 4, 3, 6, 6, 7, 8, 4, 9, 8, 4, 6, 8, 9, 0, 5, 6, 8, 7, 8, 8, 9, 8, 4, 6, 8, 8, 1, 3, 4, 4, 2, 5, 6, 9, 6, 2, 7, 1, 8, 4, 4, 1, 6, 8, 6, 8, 5, 9, 0, 1, 0, 6, 9, 2, 9, 0, 9, 7, 8, 5, 7, 6, 6, 8, 1, 6, 5, 8, 5, 1, 4, 1, 6, 4, 5, 6, 2, 7, 8, 8, 9, 2, 8, 9, 8, 5, 2, 4, 4, 8, 9, 1, 8, 6, 0, 6, 0, 4, 9, 2, 2, 3, 2, 3, 9, 7, 5, 1, 5, 1, 4, 5, 0, 7, 8, 9, 3, 6, 2, 8, 9, 9, 6, 5, 1, 4, 9, 2, 1, 8, 5, 2, 4, 8, 4, 9, 6, 6, 6, 9, 8, 4, 9, 6, 7, 6, 7, 7, 6, 4, 0, 2, 3, 7, 3, 7, 0, 5, 9, 6, 3, 8, 4, 6, 4, 3, 8, 6, 6, 5, 7, 6, 5, 3, 0, 4, 0, 4, 8, 5, 8, 0, 4, 1, 5, 3, 3, 8, 1, 6, 0, 8, 7, 5, 1, 2, 6, 2, 4, 3, 4, 0, 7, 1, 3, 5, 7, 1, 8, 8, 3, 8, 2, 7, 7, 8, 4, 6, 5, 3, 3, 9, 4, 1, 6, 4, 9, 7, 6, 2, 4, 8, 1, 3, 9, 5, 6, 9, 7, 7, 4, 2, 0, 9, 5, 7, 2, 3, 5, 6, 7, 4, 1, 6, 1, 8, 6, 9, 3, 0, 4, 0, 4, 6, 7, 4, 0, 0, 0, 7, 5, 3, 4, 7, 8, 3, 5, 6, 2, 8, 9, 1, 6, 7, 0, 3, 4, 9, 9, 4, 1, 8, 8, 3, 6, 4, 6, 7, 5, 8, 8, 0, 0, 3, 0, 4, 3, 6, 6, 3, 2, 0, 8, 5, 9, 5, 2, 6, 5, 7, 3, 7, 2, 8, 8, 3, 2, 7, 6, 5, 9, 9, 8, 2, 6, 1, 0, 5, 7, 7, 7, 0, 7, 9, 9, 9, 3, 4, 1, 4, 4, 1, 9, 4, 3, 5, 9, 5, 4, 6, 1, 7, 4, 7, 3, 7, 2, 7, 7, 1, 0, 1, 2, 7, 3, 2, 1, 8, 7, 0, 9, 0, 3, 7, 6, 5, 8, 4, 5, 6, 5, 5, 4, 7, 9, 6, 4, 3, 2, 0, 1, 9, 8, 7, 9, 6, 1, 6, 4, 5, 4, 7, 6, 4, 5, 4, 6, 6, 3, 3, 0, 2, 3, 3, 8, 1, 2, 3, 2, 4, 9, 4, 2, 6, 5, 1, 6, 5, 4, 7, 9, 3, 5, 3, 0, 7, 7, 5, 3, 6, 6, 5, 6, 9, 6, 9, 8, 8, 3, 1, 9, 9, 1, 8, 0, 8, 0, 4, 7, 7, 2, 6, 5, 6, 9, 3, 5, 3, 7, 0, 8, 6, 5, 8, 3, 8, 7, 7, 8, 9, 2, 7, 4, 9, 9, 7, 0, 3, 1, 6, 0, 6, 5, 0, 4, 2, 8, 3, 8, 3, 5, 1, 4, 9, 8, 1, 1, 5, 7, 9, 4, 6, 8, 5, 3, 5, 2, 2, 8, 5, 8, 9, 7, 9, 1, 0, 3, 1, 0, 3, 8, 9, 5, 8, 8, 8, 8, 9, 4, 8, 3, 0, 7, 0, 7, 0, 5, 5, 4, 3, 0, 9, 7, 0, 6, 7, 0, 8, 6, 4, 5, 2, 9, 8, 3, 5, 6, 4, 3, 8, 0, 8, 2, 8, 5, 5, 4, 5, 1, 7, 3, 4, 2, 5, 6, 9, 7, 6, 3, 8, 4, 6, 6, 4, 5, 2, 3, 1, 8, 7, 5, 0, 4, 7, 1, 1, 9, 6, 7, 6, 9, 2, 3, 0, 8, 3, 1, 7, 4, 8, 6, 7, 5, 8, 6, 0, 3, 0, 8, 2, 5, 9, 9, 6, 6, 1, 3, 4, 7, 9, 2, 9, 9, 9, 4, 0, 4, 0, 7, 8, 5, 1, 3, 2, 1, 8, 8, 6, 9, 3, 3, 3, 6, 9, 0, 6, 8, 4, 0, 7, 7, 2, 4, 7, 0, 4, 9, 0, 7, 0, 6, 7, 1, 8, 3, 3, 8, 5, 8, 0, 6, 0, 2, 7, 0, 6, 6, 4, 9, 1, 8, 6, 3, 9, 0, 9, 3, 3, 7, 8, 9, 7, 5, 4, 5, 8, 6, 8, 9, 6, 3, 1, 9, 2, 2, 8, 9, 9, 8, 1, 1, 9, 8, 9, 9, 8, 2, 6, 9, 1, 9, 6, 1, 9, 2, 4, 8, 9, 1, 9, 9, 1, 1, 7, 0, 7, 6, 6, 9, 8, 3, 0, 6, 0, 7, 3, 8, 3, 0, 2, 4, 5, 3, 5, 6, 6, 6, 5, 6, 5, 4, 3, 8, 0, 0, 9, 5, 9, 8, 6, 9, 3, 1, 4, 7, 3, 6, 9, 3, 4, 7, 6, 9, 0, 4, 3, 9, 3, 8, 7, 8, 3, 5, 3, 9, 6, 1, 0, 7, 4, 8, 7, 7, 8, 5, 0, 3, 6, 3, 4, 8, 2, 5, 4, 7, 0, 5, 7, 0, 3, 9, 9, 8, 7, 3, 5, 7, 8, 6, 7, 8, 9, 4, 7, 7, 0, 8, 5, 2, 9, 6, 4, 9, 6, 5, 9, 8, 5, 5, 4, 1, 0, 9, 4, 3, 4, 6, 6, 0, 9, 8, 6, 9, 4, 9, 7, 4, 6, 7, 3, 2, 9, 6, 7, 7, 8, 2, 7, 2, 5, 5, 6, 8, 6, 6, 2, 3, 7, 8, 7, 2, 2, 9, 9, 7, 0, 1, 6, 1, 0, 9, 9, 7, 2, 9, 1, 6, 8, 1, 2, 3, 5, 2, 4, 2, 6, 3, 4, 7, 1, 9, 4, 9, 8, 7, 9, 5, 1, 5, 1, 3, 6, 6, 5, 9, 2, 5, 8, 3, 4, 8, 7, 8, 0, 6, 6, 1, 5, 9, 8, 5, 1, 9, 2, 9, 0, 0, 8, 2, 6, 8, 5, 7, 6, 1, 6, 9, 4, 5, 0, 1, 7, 5, 2, 4, 9, 4, 3, 0, 3, 8, 5, 0, 0, 6, 2, 0, 0, 4, 5, 7, 3, 6, 4, 7, 9, 4, 3, 0, 6, 2, 2, 0, 3, 2, 6, 9, 1, 5, 8, 2, 2, 3, 3, 7, 5, 2, 1, 5, 2, 5, 9, 6, 5, 0, 2, 9, 7, 1, 7, 2, 2, 0, 8, 6, 4, 3, 2, 5, 7, 0, 4, 1, 6, 7, 1, 9, 0, 3, 9, 0, 9, 2, 0, 0, 0, 0, 1, 1, 8, 7, 9, 7, 6, 4, 3, 2, 4, 8, 4, 6, 7, 8, 9, 6, 5, 8, 1, 8, 2, 6, 4, 3, 4, 7, 1, 6, 6, 9, 5, 2, 5, 5, 8, 8, 2, 3, 6, 2, 9, 6, 1, 4, 5, 9, 8, 1, 4, 0, 8, 1, 9, 2, 6, 6, 5, 4, 9, 5, 8, 6, 9, 1, 7, 6, 0, 6, 5, 4, 3, 6, 0, 3, 6, 9, 7, 1, 4, 4, 6, 1, 3, 8, 8, 6, 6, 4, 7, 6, 7, 5, 5, 7, 4, 6, 2, 7, 2, 2, 5, 3, 2, 4, 3, 2, 9, 9, 3, 9, 1, 5, 5, 2, 4, 3, 2, 1, 0, 4, 3, 5, 7, 8, 9, 4, 3, 2, 8, 9, 1, 3, 3, 4, 4, 3, 9, 7, 6, 8, 9, 8, 9, 9, 3, 1, 7, 3, 0, 9, 2, 8, 3, 0, 2, 6, 3, 6, 0, 1, 4, 1, 6, 7, 5, 5, 4, 3, 9, 4, 0, 8, 3, 2, 9, 4, 1, 8, 8, 2, 4, 8, 9, 2, 8, 1, 3, 0, 9, 1, 4, 2, 2, 8, 2, 7, 8, 9, 5, 1, 1, 6, 0, 8, 4, 6, 6, 7, 7, 2, 4, 2, 5, 3, 6, 6, 8, 5, 2, 0, 7, 9, 6, 7, 7, 9, 6, 8, 9, 6, 9, 3, 7, 2, 5, 5, 9, 7, 0, 2, 9, 3, 4, 1, 2, 9, 5, 8, 9, 7, 1, 3, 0, 8, 7, 3, 6, 4, 7, 8, 1, 8, 1, 0, 4, 6, 1, 9, 9, 0, 8, 2, 5, 6, 0, 7, 7, 5, 4, 2, 0, 2, 5, 4, 3, 4, 7, 7, 4, 7, 9, 6, 1, 7, 5, 6, 5, 7, 9, 2, 7, 8, 5, 9, 4, 8, 3, 4, 3, 7, 9, 8, 9, 7, 4, 8, 9, 3, 0, 6, 4, 0, 2, 0, 1, 4, 2, 2, 3, 5, 4, 9, 6, 6, 7, 9, 9, 5, 3, 9, 8, 4, 2, 0, 9, 0, 8, 4, 1, 3, 2, 3, 8, 1, 9, 8, 8, 8, 7, 6, 6, 2, 3, 4, 0, 3, 4, 8, 8, 8, 7, 9, 6, 1, 7, 4, 3, 0, 6, 7, 9, 3, 5, 6, 8, 4, 6, 6, 7, 1, 6, 9, 7, 8, 5, 0, 1, 7, 6, 0, 1, 8, 9, 9, 2, 7, 2, 5, 2, 9, 8, 7, 4, 4, 9, 0, 6, 7, 3, 9, 2, 5, 4, 1, 9, 0, 5, 5, 1, 5, 6, 7, 2, 4, 6, 8, 8, 9, 6, 6, 9, 0, 7, 5, 8, 4, 1, 5, 8, 1, 2, 9, 4, 0, 3, 8, 9, 5, 5, 8, 7, 5, 8, 0, 4, 4, 8, 2, 4, 8, 7, 9, 8, 7, 9, 6, 2, 9, 0, 5, 9, 7, 6, 7, 7, 1, 1, 6, 2, 2, 0, 6, 8, 7, 7, 4, 2, 9, 0, 6, 7, 0, 2, 5, 8, 6, 8, 2, 7, 7, 0, 1, 8, 1, 6, 5, 9, 7, 8, 9, 6, 6, 8, 1, 9, 4, 0, 4, 1, 4, 3, 6, 2, 5, 0, 0, 0, 7, 8, 7, 0, 3, 2, 7, 7, 4, 5, 6, 4, 3, 5, 4, 9, 8, 8, 7, 5, 9, 6, 5, 8, 7, 7, 4, 6, 1, 8, 5, 9, 3, 5, 6, 2, 2, 7, 6, 5, 8, 1, 9, 6, 9, 7, 7, 8, 8, 7, 8, 4, 9, 7, 3, 3, 8, 8, 6, 9, 4, 7, 2, 0, 8, 0, 7, 8, 5, 2, 5, 2, 8, 6, 0, 4, 9, 2, 6, 2, 6, 0, 4, 6, 0, 8, 0, 2, 4, 1, 1, 6, 9, 4, 2, 1, 2, 4, 5, 4, 0, 3, 8, 8, 5, 1, 8, 7, 7, 3, 9, 6, 6, 6, 0, 7, 6, 3, 7, 7, 4, 2, 6, 0, 6, 1, 8, 2, 0, 9, 3, 9, 0, 5, 4, 3, 3, 3, 6, 7, 6, 0, 0, 5, 7, 2, 7, 7, 0, 6, 1, 5, 9, 0, 0, 0, 3, 8, 4, 0, 8, 4, 1, 0, 2, 2, 4, 9, 1, 2, 7, 9, 4, 1, 4, 7, 1, 0, 4, 9, 0, 0, 2, 8, 0, 4, 1, 8, 4, 0, 8, 2, 0, 5, 9, 2, 9, 1, 1, 5, 4, 7, 2, 0, 6, 5, 9, 5, 7, 3, 4, 1, 1, 9, 9, 8, 9, 8, 6, 8, 5, 8, 8, 3, 6, 4, 6, 5, 7, 7, 0, 3, 8, 7, 3, 1, 5, 9, 5, 1, 6, 0, 2, 5, 6, 9, 9, 0, 4, 1, 9, 8, 6, 1, 9, 6, 0, 1, 9, 9, 8, 8, 6, 3, 6, 5, 0, 3, 2, 0, 3, 4, 7, 5, 2, 1, 6, 8, 8, 1, 6, 8, 3, 7, 5, 9, 6, 7, 1, 0, 6, 9, 6, 7, 7, 1, 3, 9, 1, 8, 7, 0, 1, 5, 7, 4, 4, 3, 8, 8, 8, 4, 8, 5, 4, 3, 6, 0, 3, 5, 2, 6, 8, 4, 9, 9, 9, 3, 1, 2, 2, 8, 1, 1, 0, 0, 4, 2, 4, 1, 1, 9, 7, 7, 7, 5, 8, 4, 0, 2, 8, 5, 8, 5, 3, 5, 7, 9, 8, 7, 3, 6, 1, 2, 8, 4, 6, 5, 3, 1, 8, 6, 5, 7, 6, 2, 0, 4, 9, 9, 0, 3, 5, 3, 3, 1, 1, 0, 4, 8, 2, 1, 1, 7, 5, 2, 3, 4, 1, 3, 3, 4, 9, 1, 4, 8, 1, 0, 9, 6, 9, 6, 3, 2, 0, 6, 8, 7, 4, 6, 8, 9, 0, 5, 3, 3, 6, 1, 3, 9, 5, 9, 5, 4, 4, 8, 8, 3, 3, 1, 7, 9, 8, 6, 0, 4, 7, 8, 3, 4, 7, 0, 2, 8, 4, 8, 5, 0, 8, 8, 3, 6, 5, 7, 3, 5, 4, 1, 5, 9, 7, 0, 6, 8, 3, 9, 0, 9, 8, 9, 6, 3, 7, 2, 5, 4, 3, 5, 3, 4, 4, 3, 1, 1, 8, 2, 6, 9, 3, 5, 8, 9, 2, 3, 9, 7, 6, 3, 2, 2, 9, 2, 5, 3, 3, 4, 9, 2, 0, 0, 4, 1, 3, 5, 7, 4, 7, 8, 2, 8, 9, 3, 2, 7, 6, 3, 6, 4, 6, 4, 6, 6, 5, 0, 4, 4, 8, 0, 5, 9, 5, 2, 0, 7, 3, 8, 9, 4, 9, 1, 8, 7, 2, 1, 4, 4, 2, 6, 1, 6, 9, 0, 1, 7, 1, 4, 4, 4, 2, 6, 9, 7, 8, 3, 5, 4, 4, 5, 7, 5, 7, 3, 5, 3, 1, 2, 7, 8, 5, 6, 0, 2, 5, 2, 2, 3, 4, 5, 1, 6, 8, 6, 8, 3, 2, 7, 5, 9, 7, 1, 4, 5, 3, 6, 1, 7, 3, 0, 0, 6, 6, 8, 6, 6, 0, 3, 4, 3, 4, 8, 4, 9, 9, 3, 4, 1, 4, 8, 3, 7, 1, 2, 6, 8, 2, 7, 8, 9, 3, 6, 5, 6, 0, 6, 6, 9, 4, 2, 9, 3, 8, 3, 9, 4, 1, 6, 9, 9, 5, 3, 9, 0, 1, 3, 9, 5, 9, 0, 9, 7, 7, 4, 4, 5, 6, 4, 8, 1, 9, 0, 4, 3, 1, 8, 6, 0, 3, 6, 5, 1, 3, 8, 6, 8, 7, 8, 1, 6, 4, 2, 0, 2, 9, 9, 0, 5, 4, 9, 6, 9, 8, 9, 0, 6, 1, 6, 4, 3, 5, 6, 9, 0, 7, 2, 7, 8, 3, 2, 8, 6, 9, 9, 9, 0, 6, 4, 3, 9, 5, 0, 1, 9, 7, 0, 7, 3, 3, 1, 8, 5, 0, 5, 0, 8, 8, 3, 9, 6, 8, 1, 3, 5, 4, 1, 4, 0, 5, 3, 9, 4, 3, 3, 1, 4, 6, 3, 9, 9, 7, 1, 7, 0, 1, 2, 1, 3, 3, 8, 3, 1, 5, 9, 9, 0, 7, 0, 1, 7, 6, 2, 6, 5, 9, 0, 1, 3, 9, 9, 9, 2, 8, 8, 4, 9, 0, 9, 1, 6, 6, 4, 6, 9, 8, 6, 2, 6, 2, 3, 3, 5, 7, 1, 6, 4, 1, 6, 1, 7, 1, 6, 2, 6, 0, 2, 0, 9, 7, 5, 3, 6, 0, 8, 8, 1, 1, 3, 5, 6, 3, 3, 8, 7, 6, 8, 7, 7, 1, 9, 1, 9, 9, 1, 9, 9, 4, 5, 5, 5, 0, 9, 0, 6, 3, 0, 4, 8, 9, 7, 3, 1, 1, 2, 7, 9, 0, 1, 8, 5, 4, 4, 7, 4, 8, 3, 3, 4, 2, 5, 9, 0, 1, 6, 9, 8, 9, 5, 3, 5, 9, 0, 6, 9, 9, 5, 5, 9, 2, 9, 6, 7, 6, 5, 8, 1, 8, 7, 5, 2, 3, 6, 1, 7, 6, 8, 2, 4, 4, 7, 5, 4, 7, 7, 7, 3, 2, 7, 4, 6, 7, 4, 1, 8, 0, 2, 6, 1, 5, 4, 0, 9, 6, 0, 0, 2, 5, 0, 5, 0, 8, 3, 6, 8, 1, 2, 0, 5, 7, 8, 5, 1, 7, 3, 1, 1, 4, 9, 0, 9, 7, 1, 4, 6, 0, 2, 0, 5, 0, 4, 1, 3, 9, 3, 8, 2, 8, 0, 5, 5, 0, 8, 0, 7, 5, 6, 9, 3, 6, 4, 9, 5, 6, 9, 0, 9, 8, 8, 8, 0, 3, 9, 2, 3, 3, 7, 9, 8, 7, 4, 9, 9, 9, 8, 9, 6, 4, 7, 5, 6, 5, 4, 0, 9, 6, 6, 7, 0, 1, 0, 9, 3, 6, 2, 6, 0, 2, 6, 1, 9, 9, 8, 6, 8, 2, 8, 9, 3, 4, 0, 3, 3, 6, 6, 8, 9, 7, 3, 5, 5, 6, 4, 6, 9, 3, 5, 5, 0, 2, 7, 2, 7, 2, 9, 2, 9, 0, 6, 6, 9, 4, 5, 3, 9, 1, 1, 4, 4, 3, 5, 4, 8, 0, 0, 3, 9, 4, 7, 4, 8, 3, 0, 6, 5, 8, 9, 3, 3, 0, 0, 8, 4, 7, 5, 5, 5, 7, 1, 1, 6, 1, 4, 2, 0, 9, 5, 0, 3, 0, 1, 7, 4, 5, 1, 4, 5, 9, 7, 6, 8, 4, 0, 0, 1, 6, 0, 1, 2, 1, 7, 7, 9, 8, 7, 5, 4, 0, 9, 0, 0, 8, 5, 1, 0, 9, 4, 8, 6, 2, 4, 6, 3, 5, 1, 3, 3, 9, 4, 2, 9, 9, 0, 9, 8, 3, 4, 5, 6, 9, 6, 4, 4, 2, 3, 9, 4, 0, 8, 0, 4, 6, 5, 7, 9, 7, 0, 3, 7, 7, 3, 1, 9, 3, 8, 9, 5, 4, 9, 9, 4, 4, 0, 9, 5, 1, 4, 1, 8, 8, 7, 0, 0, 8, 7, 2, 9, 7, 6, 9, 3, 5, 9, 9, 4, 6, 8, 3, 5, 4, 7, 1, 1, 3, 9, 3, 3, 1, 8, 8, 7, 8, 8, 6, 9, 8, 4, 7, 7, 8, 9, 0, 4, 4, 6, 7, 3, 2, 8, 8, 5, 3, 1, 3, 9, 3, 0, 8, 6, 3, 0, 6, 5, 4, 1, 1, 9, 7, 1, 8, 6, 8, 8, 3, 9, 0, 2, 7, 6, 2, 7, 7, 9, 1, 7, 6, 6, 5, 4, 7, 1, 4, 9, 6, 6, 6, 9, 6, 3, 3, 5, 8, 6, 6, 7, 1, 3, 5, 6, 4, 6, 8, 4, 1, 9, 3, 7, 6, 8, 7, 3, 5, 9, 1, 3, 6, 0, 2, 0, 9, 1, 8, 5, 3, 3, 3, 0, 3, 7, 7, 8, 9, 5, 3, 1, 6, 1, 5, 1, 0, 6, 8, 3, 2, 1, 2, 7, 1, 9, 8, 2, 3, 9, 7, 5, 0, 0, 6, 9, 7, 6, 3, 1, 6, 8, 6, 6, 8, 5, 6, 4, 6, 7, 7, 4, 6, 9, 6, 2, 6, 0, 1, 3, 6, 3, 9, 3, 6, 8, 4, 8, 7, 3, 8, 6, 8, 5, 2, 4, 3, 9, 3, 4, 6, 4, 7, 9, 0, 1, 6, 7, 2, 0, 3, 5, 5, 3, 5, 9, 4, 6, 3, 7, 2, 5, 6, 4, 1, 6, 4, 1, 6, 7, 0, 5, 9, 8, 9, 7, 3, 3, 4, 3, 7, 6, 5, 3, 0, 0, 2, 8, 0, 3, 2, 4, 3, 3, 7, 9, 6, 9, 8, 1, 2, 6, 7, 4, 4, 1, 3, 7, 0, 9, 4, 8, 3, 8, 5, 8, 5, 6, 5, 0, 8, 5, 9, 1, 8, 1, 5, 0, 9, 1, 3, 8, 3, 3, 4, 2, 7, 4, 7, 4, 3, 3, 4, 4, 2, 7, 5, 8, 3, 8, 6, 5, 4, 0, 7, 4, 7, 6, 2, 4, 2, 9, 4, 8, 8, 6, 0, 6, 1, 7, 9, 4, 6, 8, 5, 9, 5, 6, 7, 8, 0, 9, 3, 5, 6, 4, 1, 6, 0, 8, 3, 7, 2, 5, 7, 5, 7, 7, 1, 7, 4, 7, 3, 2, 1, 4, 2, 7, 0, 7, 3, 6, 6, 2, 5, 4, 6, 0, 3, 1, 9, 9, 0, 8, 1, 5, 3, 1, 6, 7, 8, 9, 6, 3, 3, 6, 0, 9, 9, 2, 6, 6, 1, 6, 6, 0, 2, 7, 8, 8, 5, 6, 8, 9, 2, 5, 2, 2, 4, 8, 9, 0, 6, 8, 9, 7, 9, 8, 7, 7, 3, 8, 2, 9, 6, 4, 7, 5, 8, 7, 3, 7, 8, 7, 9, 6, 2, 4, 9, 0, 7, 1, 9, 6, 8, 0, 7, 3, 8, 0, 8, 2, 1, 2, 1, 9, 1, 8, 6, 5, 3, 5, 7, 4, 4, 8, 6, 5, 4, 7, 0, 5, 4, 3, 5, 9, 5, 7, 0, 5, 4, 6, 8, 8, 3, 5, 2, 8, 3, 7, 6, 3, 6, 5, 6, 0, 5, 5, 8, 5, 5, 2, 1, 3, 3, 6, 3, 5, 0, 7, 2, 0, 9, 5, 4, 1, 6, 4, 6, 9, 0, 2, 6, 7, 4, 3, 1, 3, 9, 2, 8, 8, 5, 9, 3, 4, 4, 4, 1, 5, 6, 3, 0, 8, 0, 0, 6, 9, 4, 8, 1, 2, 5, 9, 0, 7, 1, 4, 5, 7, 9, 9, 6, 4, 7, 1, 3, 9, 4, 1, 8, 8, 7, 7, 1, 5, 5, 2, 6, 7, 5, 4, 4, 4, 4, 7, 6, 6, 1, 9, 9, 2, 9, 6, 3, 2, 6, 8, 5, 0, 6, 9, 0, 9, 5, 8, 2, 2, 6, 9, 2, 2, 6, 9, 9, 9, 7, 9, 9, 2, 5, 1, 1, 0, 6, 9, 9, 5, 6, 5, 6, 9, 7, 9, 4, 3, 4, 3, 3, 9, 8, 0, 3, 7, 8, 5, 0, 4, 0, 7, 8, 8, 9, 0, 0, 7, 2, 0, 6, 6, 7, 5, 2, 4, 6, 2, 8, 6, 9, 5, 6, 4, 3, 9, 3, 4, 6, 3, 3, 9, 0, 8, 3, 4, 2, 9, 3, 0, 5, 4, 8, 7, 8, 6, 5, 4, 8, 5, 0, 1, 8, 3, 4, 8, 4, 5, 0, 4, 8, 1, 9, 3, 8, 4, 4, 5, 2, 2, 8, 3, 8, 8, 4, 4, 2, 4, 6, 7, 2, 2, 3, 1, 0, 0, 2, 1, 7, 9, 4, 6, 4, 1, 8, 3, 6, 5, 9, 2, 5, 6, 7, 1, 9, 1, 6, 1, 0, 7, 9, 3, 2, 9, 5, 8, 2, 9, 8, 5, 1, 8, 1, 5, 5, 3, 6, 8, 8, 3, 5, 0, 4, 8, 6, 3, 0, 8, 3, 2, 2, 2, 9, 9, 8, 3, 9, 7, 3, 9, 9, 6, 7, 1, 3, 6, 7, 4, 0, 9, 4, 0, 1, 6, 4, 4, 3, 4, 6, 8, 7, 5, 8, 2, 4, 1, 1, 5, 6, 9, 5, 4, 8, 0, 1, 1, 5, 8, 3, 9, 0, 9, 2, 4, 0, 6, 9, 8, 6, 8, 3, 9, 5, 3, 3, 2, 3, 7, 9, 6, 9, 8, 7, 6, 8, 2, 2, 5, 2, 5, 8, 9, 7, 2, 0, 0, 7, 5, 6, 5, 5, 7, 6, 4, 8, 8, 7, 9, 3, 9, 6, 8, 6, 0, 0, 8, 7, 8, 5, 4, 0, 2, 5, 4, 9, 2, 4, 4, 4, 9, 2, 0, 5, 2, 2, 8, 2, 4, 4, 7, 1, 5, 7, 6, 6, 3, 9, 9, 9, 7, 4, 5, 1, 5, 1, 4, 3, 0, 8, 9, 5, 6, 9, 9, 9, 6, 3, 8, 8, 8, 5, 3, 7, 1, 1, 1, 7, 0, 6, 9, 4, 4, 6, 5, 3, 2, 9, 6, 6, 7, 9, 7, 7, 0, 8, 7, 2, 7, 7, 4, 4, 0, 1, 6, 0, 5, 3, 5, 4, 4, 9, 7, 3, 3, 7, 8, 8, 5, 4, 8, 0, 8, 0, 0, 0, 2, 0, 9, 0, 7, 7, 7, 6, 2, 0, 4, 0, 1, 7, 0, 3, 7, 9, 3, 1, 1, 6, 9, 3, 8, 9, 7, 8, 3, 1, 5, 2, 6, 5, 5, 5, 5, 3, 7, 9, 6, 2, 9, 8, 4, 2, 6, 9, 8, 7, 8, 4, 7, 9, 9, 2, 8, 9, 1, 5, 9, 6, 8, 8, 7, 1, 0, 8, 5, 6, 3, 4, 8, 2, 1, 2, 3, 1, 1, 1, 0, 8, 8, 9, 8, 3, 6, 4, 3, 3, 6, 6, 3, 1, 4, 4, 7, 8, 2, 1, 5, 1, 7, 6, 2, 2, 2, 6, 7, 4, 0, 8, 1, 3, 5, 6, 8, 9, 1, 6, 1, 9, 7, 2, 0, 4, 7, 4, 0, 9, 7, 6, 8, 9, 1, 6, 7, 8, 8, 5, 9, 1, 0, 7, 7, 4, 4, 7, 9, 2, 6, 6, 7, 4, 5, 3, 0, 9, 6, 7, 2, 5, 5, 5, 5, 7, 6, 2, 6, 4, 9, 6, 8, 6, 8, 5, 7, 2, 5, 4, 5, 3, 7, 7, 1, 8, 2, 7, 8, 8, 0, 3, 0, 0, 2, 6, 0, 8, 1, 4, 9, 3, 5, 1, 8, 9, 6, 4, 6, 9, 5, 6, 3, 9, 9, 4, 3, 9, 7, 5, 4, 5, 1, 3, 7, 3, 6, 9, 0, 9, 4, 0, 5, 1, 6, 3, 8, 2, 5, 5, 5, 2, 0, 2, 3, 1, 9, 6, 7, 0, 8, 9, 5, 6, 4, 9, 2, 3, 8, 8, 5, 8, 3, 7, 4, 4, 0, 9, 5, 9, 4, 0, 4, 4, 2, 3, 3, 0, 7, 7, 7, 6, 4, 3, 2, 4, 1, 1, 3, 8, 9, 1, 8, 6, 5, 5, 0, 9, 0, 6, 2, 0, 4, 1, 4, 7, 6, 1, 9, 4, 6, 0, 4, 5, 2, 7, 6, 4, 7, 3, 9, 6, 5, 2, 0, 6, 3, 4, 3, 8, 4, 5, 8, 9, 9, 3, 9, 8, 5, 8, 6, 6, 5, 4, 0, 2, 6, 2, 6, 1, 8, 2, 9, 4, 3, 2, 2, 5, 2, 5, 0, 2, 1, 2, 8, 0, 8, 9, 2, 5, 3, 7, 9, 8, 4, 6, 1, 1, 8, 6, 7, 5, 8, 9, 4, 9, 0, 0, 2, 9, 1, 8, 3, 7, 5, 8, 2, 9, 4, 8, 9, 6, 8, 9, 3, 4, 8, 9, 5, 7, 7, 3, 5, 8, 8, 1, 2, 3, 1, 5, 9, 2, 2, 0, 8, 4, 2, 1, 7, 6, 4, 6, 9, 6, 5, 5, 1, 1, 3, 7, 9, 3, 8, 9, 6, 0, 8, 0, 2, 6, 4, 6, 7, 1, 1, 7, 8, 6, 8, 9, 9, 6, 8, 0, 1, 8, 7, 2, 1, 3, 4, 5, 0, 3, 6, 3, 3, 8, 1, 8, 9, 3, 9, 5, 4, 7, 1, 2, 9, 9, 0, 1, 7, 3, 9, 8, 8, 5, 4, 0, 0, 5, 0, 4, 3, 7, 0, 2, 0, 8, 5, 6, 0, 4, 6, 6, 1, 8, 7, 9, 6, 3, 6, 5, 4, 8, 5, 9, 7, 0, 9, 4, 0, 8, 1, 4, 2, 5, 3, 9, 6, 3, 6, 4, 4, 9, 3, 9, 3, 9, 4, 9, 3, 4, 1, 6, 6, 4, 7, 6, 7, 6, 2, 1, 2, 6, 4, 4, 2, 6, 6, 0, 3, 5, 7, 5, 2, 5, 0, 3, 9, 1, 6, 7, 3, 8, 4, 2, 1, 3, 5, 4, 3, 5, 6, 8, 6, 8, 0, 4, 0, 9, 9, 7, 6, 6, 0, 2, 9, 8, 5, 9, 5, 6, 0, 5, 9, 3, 5, 9, 9, 2, 9, 1, 0, 5, 4, 4, 1, 2, 1, 9, 1, 8, 5, 8, 5, 7, 3, 1, 6, 3, 4, 1, 0, 3, 8, 8, 0, 1, 4, 3, 0, 8, 6, 9, 1, 3, 0, 4, 7, 1, 3, 3, 3, 9, 0, 2, 7, 9, 2, 5, 9, 6, 1, 9, 9, 4, 4, 0, 4, 0, 0, 9, 3, 3, 0, 4, 0, 0, 8, 6, 3, 3, 9, 8, 8, 2, 0, 5, 1, 1, 8, 0, 4, 6, 9, 4, 8, 4, 5, 1, 5, 3, 6, 9, 0, 0, 7, 1, 8, 9, 3, 9, 9, 0, 7, 7, 8, 8, 8, 4, 4, 4, 7, 4, 8, 7, 4, 6, 2, 4, 4, 4, 0, 5, 1, 3, 7, 6, 0, 0, 5, 3, 8, 6, 9, 4, 5, 5, 0, 9, 1, 0, 0, 6, 5, 0, 7, 9, 9, 6, 2, 5, 8, 8, 3, 1, 6, 6, 1, 0, 6, 4, 9, 5, 0, 8, 4, 3, 8, 2, 8, 6, 0, 5, 8, 6, 3, 1, 3, 0, 8, 9, 1, 5, 7, 4, 5, 4, 3, 6, 0, 0, 1, 7, 3, 1, 9, 2, 4, 6, 6, 7, 7, 7, 0, 9, 6, 7, 8, 6, 5, 8, 7, 7, 4, 0, 2, 7, 7, 8, 8, 2, 0, 3, 8, 9, 4, 6, 5, 7, 7, 6, 6, 6, 1, 0, 3, 9, 3, 2, 5, 1, 2, 0, 0, 7, 3, 3, 8, 7, 5, 1, 7, 5, 3, 2, 5, 8, 9, 3, 9, 6, 9, 7, 4, 4, 8, 3, 4, 9, 5, 4, 2, 8, 3, 9, 1, 7, 8, 3, 2, 3, 4, 0, 5, 4, 1, 8, 2, 6, 4, 6, 4, 2, 3, 7, 9, 7, 1, 4, 9, 3, 1, 6, 5, 5, 9, 7, 1, 4, 9, 9, 2, 7, 7, 0, 6, 3, 3, 7, 4, 3, 8, 9, 2, 6, 5, 6, 6, 8, 6, 6, 7, 8, 4, 1, 5, 9, 2, 3, 6, 0, 1, 6, 4, 2, 0, 2, 4, 3, 8, 4, 4, 4, 4, 0, 5, 5, 7, 6, 5, 4, 5, 6, 5, 6, 2, 6, 5, 5, 6, 6, 9, 0, 2, 3, 9, 1, 3, 8, 0, 7, 0, 6, 8, 1, 5, 8, 9, 1, 5, 4, 2, 3, 3, 5, 8, 6, 5, 0, 5, 7, 1, 6, 5, 7, 2, 4, 0, 7, 7, 9, 5, 1, 7, 6, 6, 4, 8, 3, 9, 5, 8, 4, 3, 3, 3, 3, 0, 4, 8, 7, 7, 9, 3, 8, 4, 4, 9, 1, 0, 3, 8, 6, 8, 0, 2, 5, 9, 6, 9, 2, 7, 2, 0, 8, 2, 1, 7, 5, 1, 7, 8, 3, 5, 3, 3, 8, 7, 5, 9, 6, 9, 0, 9, 6, 1, 1, 5, 9, 0, 9, 9, 4, 5, 8, 5, 9, 8, 2, 8, 8, 6, 6, 8, 6, 9, 3, 1, 1, 3, 5, 3, 0, 7, 6, 1, 4, 6, 1, 1, 8, 1, 1, 2, 3, 4, 9, 1, 5, 2, 7, 2, 3, 6, 1, 6, 9, 8, 8, 3, 9, 4, 5, 2, 2, 4, 0, 9, 8, 7, 8, 1, 2, 4, 8, 4, 2, 9, 0, 2, 8, 9, 6, 5, 3, 2, 3, 1, 0, 6, 1, 8, 2, 5, 5, 5, 2, 0, 9, 0, 7, 7, 9, 6, 5, 4, 5, 2, 8, 3, 1, 3, 2, 2, 1, 0, 2, 3, 9, 8, 1, 9, 7, 5, 6, 1, 4, 1, 9, 0, 8, 8, 1, 9, 3, 8, 9, 5, 1, 9, 6, 1, 7, 5, 6, 4, 6, 9, 6, 0, 9, 3, 9, 3, 8, 0, 8, 6, 9, 1, 4, 6, 0, 5, 9, 3, 7, 7, 9, 4, 3, 0, 2, 3, 3, 3, 8, 9, 1, 4, 7, 1, 3, 5, 6, 9, 1, 7, 7, 1, 9, 5, 8, 8, 9, 9, 6, 9, 8, 3, 8, 2, 6, 9, 2, 2, 4, 0, 8, 4, 8, 1, 7, 4, 2, 4, 9, 5, 2, 2, 1, 2, 6, 5, 4, 2, 5, 6, 6, 8, 3, 2, 6, 8, 6, 9, 0, 8, 0, 2, 1, 1, 4, 8, 8, 6, 6, 0, 7, 9, 8, 0, 5, 0, 9, 6, 0, 0, 7, 1, 7, 1, 8, 2, 3, 9, 4, 5, 8, 5, 1, 5, 3, 0, 9, 5, 2, 3, 4, 8, 4, 6, 6, 1, 9, 4, 1, 7, 0, 1, 0, 3, 8, 2, 9, 4, 5, 0, 3, 3, 3, 2, 3, 0, 9, 4, 9, 9, 9, 0, 7, 5, 6, 7, 1, 2, 3, 7, 4, 6, 8, 6, 9, 8, 2, 9, 8, 3, 4, 0, 2, 3, 6, 6, 5, 8, 6, 8, 3, 2, 2, 9, 5, 6, 3, 8, 6, 9, 8, 6, 3, 8, 6, 5, 9, 0, 4, 5, 8, 7, 1, 9, 3, 8, 7, 6, 0, 4, 0, 7, 8, 4, 6, 9, 1, 5, 0, 6, 7, 9, 6, 1, 5, 5, 0, 1, 4, 8, 8, 4, 0, 0, 7, 0, 8, 1, 4, 4, 0, 9, 2, 3, 7, 2, 0, 0, 8, 7, 4, 3, 7, 2, 6, 5, 7, 8, 7, 1, 0, 1, 3, 6, 8, 8, 0, 6, 0, 9, 1, 4, 3, 1, 4, 9, 3, 0, 6, 7, 9, 2, 6, 7, 2, 7, 1, 3, 6, 9, 9, 1, 4, 4, 8, 1, 4, 9, 1, 2, 1, 1, 3, 2, 6, 9, 8, 5, 5, 0, 8, 7, 5, 6, 6, 3, 6, 9, 4, 8, 7, 5, 0, 5, 7, 5, 0, 0, 1, 9, 2, 8, 5, 1, 1, 2, 7, 6, 3, 9, 7, 2, 6, 9, 3, 1, 8, 9, 2, 8, 1, 9, 9, 4, 4, 4, 0, 0, 4, 6, 7, 1, 7, 7, 6, 8, 6, 5, 5, 3, 1, 6, 2, 4, 8, 8, 3, 3, 5, 9, 8, 8, 6, 9, 0, 6, 3, 0, 9, 6, 3, 0, 8, 7, 1, 0, 6, 9, 1, 6, 2, 7, 1, 3, 6, 0, 6, 2, 8, 3, 8, 2, 8, 6, 0, 8, 6, 3, 1, 7, 3, 0, 6, 0, 4, 1, 7, 2, 0, 8, 3, 2, 9, 6, 1, 6, 1, 2, 3, 7, 0, 9, 1, 0, 8, 2, 1, 2, 9, 7, 1, 9, 2, 9, 9, 0, 3, 6, 0, 2, 0, 0, 9, 0, 8, 9, 2, 3, 3, 3, 8, 7, 8, 7, 3, 3, 3, 4, 6, 5, 7, 3, 2, 2, 5, 7, 9, 6, 7, 0, 4, 1, 2, 3, 1, 9, 3, 1, 8, 3, 7, 7, 0, 8, 1, 5, 6, 6, 5, 6, 6, 3, 3, 9, 8, 8, 3, 8, 0, 3, 9, 7, 8, 3, 9, 4, 4, 6, 3, 8, 8, 6, 3, 2, 0, 9, 9, 5, 3, 7, 9, 9, 1, 8, 5, 9, 9, 6, 8, 8, 3, 8, 1, 0, 1, 8, 8, 1, 5, 9, 0, 6, 1, 3, 6, 6, 6, 5, 6, 3, 3, 4, 3, 3, 8, 9, 4, 4, 3, 0, 5, 6, 0, 8, 5, 7, 8, 4, 4, 5, 5, 1, 8, 9, 8, 2, 7, 3, 3, 7, 3, 6, 2, 7, 7, 8, 4, 0, 5, 3, 6, 1, 1, 3, 9, 6, 6, 9, 7, 0, 8, 1, 0, 6, 8, 8, 1, 0, 3, 5, 6, 1, 7, 8, 7, 1, 8, 7, 6, 7, 4, 4, 5, 8, 6, 9, 8, 6, 3, 2, 2, 8, 9, 8, 3, 8, 8, 1, 9, 0, 5, 2, 0, 5, 4, 2, 0, 6, 3, 1, 6, 6, 3, 0, 4, 8, 6, 3, 3, 1, 8, 2, 9, 6, 8, 5, 6, 8, 7, 9, 0, 8, 0, 5, 1, 2, 3, 3, 5, 3, 8, 9, 4, 2, 4, 5, 0, 5, 8, 9, 6, 3, 6, 5, 3, 3, 7, 7, 4, 2, 9, 7, 8, 2, 7, 7, 8, 5, 2, 9, 2, 6, 3, 3, 3, 6, 8, 5, 3, 0, 3, 7, 9, 6, 1, 6, 4, 9, 0, 5, 7, 4, 9, 1, 6, 0, 9, 7, 1, 2, 5, 9, 6, 1, 6, 6, 4, 6, 0, 8, 8, 4, 4, 7, 8, 5, 8, 9, 3, 3, 2, 2, 1, 3, 8, 1, 1, 1, 1, 6, 8, 7, 9, 3, 2, 4, 5, 0, 5, 0, 6, 2, 0, 9, 8, 2, 8, 5, 8, 4, 8, 6, 0, 3, 9, 8, 2, 6, 3, 9, 6, 5, 2, 9, 2, 4, 4, 9, 8, 3, 5, 9, 9, 3, 7, 0, 8, 3, 8, 6, 7, 3, 8, 3, 0, 5, 1, 8, 3, 4, 9, 0, 1, 7, 4, 5, 9, 8, 6, 9, 3, 6, 1, 9, 3, 6, 3, 8, 9, 2, 3, 4, 9, 4, 5, 4, 4, 4, 3, 1, 0, 8, 0, 4, 4, 7, 1, 3, 7, 9, 2, 3, 1, 0, 4, 8, 9, 4, 8, 1, 1, 1, 5, 8, 8, 9, 1, 7, 6, 9, 9, 2, 8, 8, 1, 8, 7, 8, 8, 1, 6, 6, 6, 4, 3, 2, 9, 1, 8, 3, 6, 6, 7, 0, 0, 5, 6, 4, 1, 6, 0, 6, 6, 8, 6, 5, 9, 0, 8, 6, 5, 0, 3, 7, 3, 0, 1, 4, 8, 9, 3, 1, 7, 0, 8, 7, 3, 9, 7, 0, 4, 4, 9, 0, 6, 5, 1, 5, 8, 6, 8, 8, 9, 4, 7, 6, 5, 0, 6, 0, 1, 6, 9, 1, 5, 6, 2, 2, 5, 8, 1, 1, 6, 1, 8, 3, 6, 9, 7, 4, 6, 8, 9, 4, 4, 3, 5, 5, 1, 4, 1, 0, 5, 3, 7, 9, 7, 5, 6, 5, 4, 6, 6, 6, 4, 8, 7, 1, 7, 6, 8, 0, 1, 3, 4, 1, 6, 5, 2, 9, 8, 3, 9, 7, 3, 3, 4, 5, 4, 5, 1, 5, 3, 8, 4, 6, 4, 9, 4, 4, 9, 9, 7, 0, 5, 9, 8, 4, 0, 5, 7, 3, 7, 9, 6, 8, 6, 8, 6, 5, 9, 0, 4, 8, 5, 4, 3, 5, 8, 8, 4, 8, 6, 4, 2, 4, 1, 7, 8, 1, 8, 4, 2, 2, 8, 7, 2, 0, 6, 7, 4, 6, 8, 9, 8, 9, 3, 6, 9, 9, 7, 4, 3, 3, 7, 4, 3, 6, 0, 9, 9, 9, 5, 3, 2, 6, 9, 9, 1, 2, 6, 3, 6, 2, 0, 9, 7, 8, 8, 8, 9, 8, 0, 5, 7, 2, 0, 6, 6, 1, 2, 4, 0, 5, 0, 7, 7, 2, 6, 5, 6, 4, 8, 3, 2, 3, 5, 9, 4, 6, 7, 5, 0, 9, 9, 6, 1, 0, 5, 6, 2, 2, 9, 2, 6, 6, 3, 7, 9, 0, 1, 9, 1, 7, 7, 3, 0, 2, 7, 6, 7, 3, 8, 8, 4, 1, 0, 9, 6, 6, 9, 8, 8, 4, 1, 8, 1, 7, 5, 6, 8, 5, 2, 6, 4, 3, 9, 1, 0, 7, 4, 8, 4, 0, 2, 6, 4, 2, 3, 8, 4, 9, 7, 1, 8, 3, 5, 5, 9, 8, 5, 2, 1, 9, 1, 8, 1, 1, 6, 3, 1, 7, 5, 4, 4, 8, 6, 8, 9, 8, 6, 0, 0, 8, 0, 0, 4, 2, 7, 6, 8, 5, 8, 7, 1, 8, 0, 1, 6, 4, 8, 4, 9, 6, 9, 7, 7, 6, 0, 9, 2, 2, 0, 4, 9, 5, 9, 6, 9, 2, 6, 5, 0, 9, 7, 1, 3, 3, 0, 6, 4, 1, 1, 9, 4, 9, 9, 9, 8, 6, 9, 4, 1, 8, 7, 2, 1, 0, 0, 9, 6, 0, 4, 3, 2, 8, 8, 0, 6, 4, 5, 2, 8, 8, 0, 6, 5, 9, 4, 2, 5, 6, 0, 6, 5, 2, 4, 1, 0, 5, 9, 8, 9, 7, 5, 9, 3, 8, 1, 3, 4, 7, 5, 6, 4, 0, 2, 5, 2, 9, 7, 3, 0, 1, 0, 5, 9, 7, 0, 3, 8, 0, 5, 9, 2, 8, 4, 6, 0, 9, 5, 4, 6, 7, 9, 4, 4, 5, 3, 1, 3, 2, 0, 9, 4, 9, 3, 3, 8, 0, 5, 8, 6, 4, 9, 5, 5, 9, 7, 9, 7, 9, 0, 1, 9, 3, 9, 4, 3, 9, 6, 4, 0, 6, 2, 4, 9, 3, 7, 3, 8, 5, 9, 0, 5, 3, 3, 6, 7, 2, 3, 2, 5, 9, 0, 3, 9, 9, 8, 7, 7, 4, 8, 6, 8, 2, 3, 1, 0, 4, 1, 9, 8, 4, 9, 3, 4, 3, 3, 9, 2, 0, 1, 8, 8, 3, 4, 1, 5, 5, 8, 5, 7, 6, 6, 5, 2, 7, 3, 3, 7, 0, 9, 5, 3, 5, 9, 6, 0, 4, 0, 2, 5, 6, 3, 8, 9, 5, 6, 1, 4, 5, 4, 6, 7, 2, 0, 9, 2, 0, 4, 9, 0, 8, 9, 1, 1, 5, 0, 0, 8, 7, 1, 7, 4, 2, 4, 4, 4, 6, 2, 6, 6, 0, 1, 3, 9, 8, 6, 7, 8, 8, 2, 0, 9, 8, 1, 7, 1, 6, 7, 6, 3, 2, 0, 3, 2, 8, 7, 7, 9, 6, 3, 3, 9, 3, 2, 7, 5, 1, 8, 2, 0, 9, 3, 9, 8, 8, 6, 7, 3, 7, 1, 6, 9, 0, 9, 2, 6, 4, 9, 5, 8, 0, 3, 9, 7, 5, 5, 3, 6, 5, 1, 8, 6, 7, 3, 9, 0, 0, 7, 8, 8, 4, 3, 5, 8, 9, 4, 2, 9, 7, 8, 7, 9, 8, 5, 4, 9, 7, 7, 9, 5, 8, 7, 1, 9, 3, 6, 7, 9, 2, 2, 3, 7, 3, 6, 3, 7, 9, 7, 6, 7, 4, 6, 2, 3, 9, 4, 2, 1, 9, 6, 0, 6, 6, 7, 4, 7, 9, 0, 7, 4, 5, 3, 3, 1, 1, 3, 6, 8, 2, 9, 5, 8, 5, 8, 6, 1, 8, 5, 8, 8, 0, 9, 0, 6, 2, 0, 9, 5, 5, 6, 2, 9, 8, 6, 5, 0, 7, 1, 7, 4, 5, 4, 9, 7, 5, 5, 9, 0, 4, 5, 2, 1, 3, 8, 7, 9, 3, 4, 5, 7, 2, 2, 8, 7, 6, 9, 6, 9, 8, 8, 3, 6, 6, 9, 5, 7, 8, 0, 3, 1, 7, 4, 1, 2, 5, 8, 3, 4, 2, 6, 4, 1, 7, 2, 6, 5, 1, 5, 3, 7, 6, 7, 7, 0, 8, 4, 4, 2, 7, 4, 3, 4, 3, 1, 6, 8, 8, 3, 4, 1, 6, 1, 7, 0, 4, 4, 0, 8, 4, 2, 8, 7, 7, 0, 9, 7, 8, 0, 8, 2, 8, 5, 7, 7, 2, 7, 2, 0, 9, 7, 2, 1, 3, 6, 8, 8, 9, 9, 9, 0, 1, 6, 6, 0, 9, 2, 6, 4, 6, 4, 2, 8, 8, 3, 1, 6, 8, 3, 1, 9, 9, 9, 9, 9, 9, 4, 4, 5, 4, 2, 8, 3, 0, 0, 6, 6, 8, 4, 6, 1, 3, 6, 8, 0, 5, 4, 9, 2, 0, 9, 6, 4, 3, 4, 6, 5, 9, 7, 7, 2, 6, 2, 0, 9, 4, 0, 3, 9, 9, 0, 0, 7, 8, 6, 7, 6, 8, 5, 4, 5, 3, 8, 5, 6, 1, 7, 5, 9, 3, 4, 3, 7, 1, 5, 2, 9, 1, 7, 9, 7, 5, 7, 1, 7, 8, 5, 8, 7, 9, 2, 9, 2, 0, 1, 6, 8, 5, 4, 6, 6, 4, 8, 1, 8, 5, 3, 3, 9, 0, 2, 1, 2, 9, 1, 5, 7, 2, 3, 1, 4, 6, 3, 2, 2, 5, 3, 0, 0, 9, 1, 7, 1, 4, 3, 8, 7, 5, 6, 5, 8, 8, 3, 9, 2, 6, 5, 1, 9, 0, 3, 3, 9, 7, 8, 9, 7, 7, 8, 9, 6, 5, 6, 2, 5, 8, 3, 7, 6, 7, 2, 2, 9, 8, 9, 2, 6, 9, 6, 3, 0, 9, 8, 7, 9, 0, 4, 7, 4, 5, 6, 7, 7, 9, 9, 3, 4, 6, 8, 1, 6, 6, 9, 9, 8, 6, 3, 3, 7, 0, 8, 9, 0, 2, 6, 6, 2, 9, 7, 7, 6, 8, 5, 6, 9, 6, 5, 9, 1, 9, 3, 0, 0, 9, 8, 6, 8, 7, 6, 9, 5, 0, 7, 6, 5, 9, 3, 6, 1, 6, 4, 0, 2, 7, 8, 4, 4, 0, 9, 2, 9, 4, 0, 3, 2, 2, 3, 2, 6, 0, 8, 0, 0, 1, 0, 8, 6, 9, 2, 1, 5, 9, 7, 8, 7, 1, 4, 0, 1, 8, 0, 8, 1, 1, 6, 8, 1, 5, 1, 8, 2, 1, 9, 8, 5, 8, 4, 0, 5, 9, 2, 0, 4, 8, 4, 9, 6, 4, 7, 0, 7, 0, 5, 7, 7, 7, 8, 4, 8, 5, 9, 8, 0, 3, 2, 4, 6, 0, 6, 9, 7, 1, 8, 4, 7, 0, 6, 0, 6, 0, 1, 0, 8, 9, 7, 5, 9, 0, 6, 4, 8, 0, 2, 2, 5, 3, 9, 9, 7, 9, 8, 4, 5, 0, 2, 0, 4, 5, 3, 8, 4, 6, 8, 9, 7, 9, 1, 1, 6, 0, 1, 1, 1, 8, 1, 4, 4, 9, 7, 8, 2, 1, 2, 7, 2, 6, 0, 5, 6, 8, 0, 6, 8, 2, 8, 5, 0, 8, 5, 7, 1, 8, 5, 9, 5, 6, 1, 7, 7, 7, 7, 0, 3, 8, 3, 3, 0, 5, 7, 0, 8, 0, 0, 9, 3, 0, 3, 2, 0, 8, 2, 6, 4, 5, 1, 2, 9, 4, 8, 9, 7, 5, 7, 4, 3, 0, 7, 6, 1, 7, 9, 8, 8, 8, 2, 7, 8, 3, 5, 3, 8, 6, 5, 0, 7]\n"
     ]
    }
   ],
   "source": [
    "print(y_pred_proper)"
   ]
  },
  {
   "cell_type": "markdown",
   "metadata": {},
   "source": [
    "# Evaluation"
   ]
  },
  {
   "cell_type": "code",
   "execution_count": 78,
   "metadata": {},
   "outputs": [
    {
     "name": "stdout",
     "output_type": "stream",
     "text": [
      "              precision    recall  f1-score   support\n",
      "\n",
      "           0       0.69      0.65      0.67      1000\n",
      "           1       0.82      0.69      0.75      1000\n",
      "           2       0.58      0.45      0.51      1000\n",
      "           3       0.47      0.47      0.47      1000\n",
      "           4       0.60      0.58      0.59      1000\n",
      "           5       0.58      0.52      0.54      1000\n",
      "           6       0.67      0.78      0.72      1000\n",
      "           7       0.72      0.71      0.72      1000\n",
      "           8       0.68      0.81      0.74      1000\n",
      "           9       0.65      0.79      0.71      1000\n",
      "\n",
      "    accuracy                           0.65     10000\n",
      "   macro avg       0.65      0.65      0.64     10000\n",
      "weighted avg       0.65      0.65      0.64     10000\n",
      "\n"
     ]
    }
   ],
   "source": [
    "print(classification_report(y_test,y_pred_proper))"
   ]
  },
  {
   "cell_type": "markdown",
   "metadata": {},
   "source": [
    "# Manual Evaluation"
   ]
  },
  {
   "cell_type": "code",
   "execution_count": 85,
   "metadata": {},
   "outputs": [
    {
     "data": {
      "image/png": "[encoded data removed]",
      "text/plain": [
       "<Figure size 1500x300 with 5 Axes>"
      ]
     },
     "metadata": {},
     "output_type": "display_data"
    }
   ],
   "source": [
    "fig,ax=plt.subplots(nrows=1,ncols=5,figsize=(15,3))\n",
    "for index in range(5):\n",
    "    plt.subplot(1,5,index+1)\n",
    "    i=random.randint(0,len(x_test))\n",
    "    plt.imshow(x_test[i])\n",
    "    j='Actual: '+class_names[y_test[i]]+ '\\nPredicted: '+class_names[y_pred_proper[i]]\n",
    "    plt.xlabel(j)\n",
    "    plt.tight_layout()"
   ]
  },
  {
   "cell_type": "code",
   "execution_count": null,
   "metadata": {},
   "outputs": [],
   "source": []
  }
 ],
 "metadata": {
  "kernelspec": {
   "display_name": "Python 3",
   "language": "python",
   "name": "python3"
  },
  "language_info": {
   "codemirror_mode": {
    "name": "ipython",
    "version": 3
   },
   "file_extension": ".py",
   "mimetype": "text/x-python",
   "name": "python",
   "nbconvert_exporter": "python",
   "pygments_lexer": "ipython3",
   "version": "3.12.0"
  }
 },
 "nbformat": 4,
 "nbformat_minor": 2
}
